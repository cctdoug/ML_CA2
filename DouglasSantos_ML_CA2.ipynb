{
 "cells": [
  {
   "cell_type": "markdown",
   "id": "941621c4-0c64-4c8e-a6c3-d56bec2b349c",
   "metadata": {},
   "source": [
    "# Neural Networks"
   ]
  },
  {
   "cell_type": "code",
   "execution_count": 1,
   "id": "08ab0c39-57d3-4c82-a4ee-d8ff996b0ab1",
   "metadata": {},
   "outputs": [],
   "source": [
    "import warnings\n",
    "# Suppress all warnings\n",
    "warnings.filterwarnings('ignore')"
   ]
  },
  {
   "cell_type": "code",
   "execution_count": 2,
   "id": "8047890a-548a-47c6-b849-bd241c399a23",
   "metadata": {},
   "outputs": [],
   "source": [
    "import pandas as pd"
   ]
  },
  {
   "cell_type": "code",
   "execution_count": 3,
   "id": "b305d0b1-ff92-4fa5-836b-3ee3616c3fd4",
   "metadata": {},
   "outputs": [
    {
     "data": {
      "text/html": [
       "<div>\n",
       "<style scoped>\n",
       "    .dataframe tbody tr th:only-of-type {\n",
       "        vertical-align: middle;\n",
       "    }\n",
       "\n",
       "    .dataframe tbody tr th {\n",
       "        vertical-align: top;\n",
       "    }\n",
       "\n",
       "    .dataframe thead th {\n",
       "        text-align: right;\n",
       "    }\n",
       "</style>\n",
       "<table border=\"1\" class=\"dataframe\">\n",
       "  <thead>\n",
       "    <tr style=\"text-align: right;\">\n",
       "      <th></th>\n",
       "      <th>ID</th>\n",
       "      <th>Age</th>\n",
       "      <th>Experience(Years)</th>\n",
       "      <th>Income(Thousands's)</th>\n",
       "      <th>Sort Code</th>\n",
       "      <th>Family</th>\n",
       "      <th>Credit Score</th>\n",
       "      <th>Education</th>\n",
       "      <th>Mortgage(Thousands's)</th>\n",
       "      <th>Personal Loan</th>\n",
       "      <th>Securities Account</th>\n",
       "      <th>CD Account</th>\n",
       "      <th>Online Banking</th>\n",
       "      <th>CreditCard</th>\n",
       "    </tr>\n",
       "  </thead>\n",
       "  <tbody>\n",
       "    <tr>\n",
       "      <th>0</th>\n",
       "      <td>1</td>\n",
       "      <td>25</td>\n",
       "      <td>1</td>\n",
       "      <td>49</td>\n",
       "      <td>91107</td>\n",
       "      <td>4</td>\n",
       "      <td>1.6</td>\n",
       "      <td>Diploma</td>\n",
       "      <td>0</td>\n",
       "      <td>No</td>\n",
       "      <td>Yes</td>\n",
       "      <td>No</td>\n",
       "      <td>No</td>\n",
       "      <td>No</td>\n",
       "    </tr>\n",
       "    <tr>\n",
       "      <th>1</th>\n",
       "      <td>2</td>\n",
       "      <td>45</td>\n",
       "      <td>19</td>\n",
       "      <td>34</td>\n",
       "      <td>90089</td>\n",
       "      <td>3</td>\n",
       "      <td>1.5</td>\n",
       "      <td>Diploma</td>\n",
       "      <td>0</td>\n",
       "      <td>No</td>\n",
       "      <td>Yes</td>\n",
       "      <td>No</td>\n",
       "      <td>No</td>\n",
       "      <td>No</td>\n",
       "    </tr>\n",
       "    <tr>\n",
       "      <th>2</th>\n",
       "      <td>3</td>\n",
       "      <td>39</td>\n",
       "      <td>15</td>\n",
       "      <td>11</td>\n",
       "      <td>94720</td>\n",
       "      <td>1</td>\n",
       "      <td>1.0</td>\n",
       "      <td>Diploma</td>\n",
       "      <td>0</td>\n",
       "      <td>No</td>\n",
       "      <td>No</td>\n",
       "      <td>No</td>\n",
       "      <td>No</td>\n",
       "      <td>No</td>\n",
       "    </tr>\n",
       "    <tr>\n",
       "      <th>3</th>\n",
       "      <td>4</td>\n",
       "      <td>35</td>\n",
       "      <td>9</td>\n",
       "      <td>100</td>\n",
       "      <td>94112</td>\n",
       "      <td>1</td>\n",
       "      <td>2.7</td>\n",
       "      <td>Degree</td>\n",
       "      <td>0</td>\n",
       "      <td>No</td>\n",
       "      <td>No</td>\n",
       "      <td>No</td>\n",
       "      <td>No</td>\n",
       "      <td>No</td>\n",
       "    </tr>\n",
       "    <tr>\n",
       "      <th>4</th>\n",
       "      <td>5</td>\n",
       "      <td>35</td>\n",
       "      <td>8</td>\n",
       "      <td>45</td>\n",
       "      <td>91330</td>\n",
       "      <td>4</td>\n",
       "      <td>1.0</td>\n",
       "      <td>Degree</td>\n",
       "      <td>0</td>\n",
       "      <td>No</td>\n",
       "      <td>No</td>\n",
       "      <td>No</td>\n",
       "      <td>No</td>\n",
       "      <td>Yes</td>\n",
       "    </tr>\n",
       "  </tbody>\n",
       "</table>\n",
       "</div>"
      ],
      "text/plain": [
       "   ID  Age  Experience(Years)  Income(Thousands's)  Sort Code  Family  \\\n",
       "0   1   25                  1                   49      91107       4   \n",
       "1   2   45                 19                   34      90089       3   \n",
       "2   3   39                 15                   11      94720       1   \n",
       "3   4   35                  9                  100      94112       1   \n",
       "4   5   35                  8                   45      91330       4   \n",
       "\n",
       "   Credit Score Education  Mortgage(Thousands's) Personal Loan  \\\n",
       "0           1.6   Diploma                      0            No   \n",
       "1           1.5   Diploma                      0            No   \n",
       "2           1.0   Diploma                      0            No   \n",
       "3           2.7    Degree                      0            No   \n",
       "4           1.0    Degree                      0            No   \n",
       "\n",
       "  Securities Account CD Account Online Banking CreditCard  \n",
       "0                Yes         No             No         No  \n",
       "1                Yes         No             No         No  \n",
       "2                 No         No             No         No  \n",
       "3                 No         No             No         No  \n",
       "4                 No         No             No        Yes  "
      ]
     },
     "execution_count": 3,
     "metadata": {},
     "output_type": "execute_result"
    }
   ],
   "source": [
    "# Load the data\n",
    "df = pd.read_csv('BankRecords.csv')\n",
    "df.head()"
   ]
  },
  {
   "cell_type": "markdown",
   "id": "13ff47dc-96ec-4a27-baf2-69731af4ab70",
   "metadata": {},
   "source": [
    "## Data Preparation"
   ]
  },
  {
   "cell_type": "markdown",
   "id": "edadb759-0ed6-49bd-ad31-4418e8d4c51b",
   "metadata": {},
   "source": [
    "### Renaming some of the columns to remove especial characters"
   ]
  },
  {
   "cell_type": "code",
   "execution_count": 5,
   "id": "3bb71755-ba59-4d4e-bd6b-05574a4bdda8",
   "metadata": {},
   "outputs": [],
   "source": [
    "df = df.rename(columns={\n",
    "    'Experience(Years)': 'Experience_years',\n",
    "    'Income(Thousands\\'s)': 'Income_thousands',\n",
    "    'Mortgage(Thousands\\'s)' : 'Mortgage_thousands'\n",
    "})"
   ]
  },
  {
   "cell_type": "markdown",
   "id": "cfe093b7-d84b-48e7-8b8a-b91ed8c3f1a3",
   "metadata": {},
   "source": [
    "### Checking dataframe's characteristics"
   ]
  },
  {
   "cell_type": "code",
   "execution_count": 6,
   "id": "f8773789-a7c3-4dca-8f50-e75b2ed1d295",
   "metadata": {},
   "outputs": [
    {
     "data": {
      "text/plain": [
       "(5000, 14)"
      ]
     },
     "execution_count": 6,
     "metadata": {},
     "output_type": "execute_result"
    }
   ],
   "source": [
    "df.shape"
   ]
  },
  {
   "cell_type": "code",
   "execution_count": 7,
   "id": "db381075-62a6-4b17-b3e6-a2a4792f3f31",
   "metadata": {},
   "outputs": [
    {
     "name": "stdout",
     "output_type": "stream",
     "text": [
      "<class 'pandas.core.frame.DataFrame'>\n",
      "RangeIndex: 5000 entries, 0 to 4999\n",
      "Data columns (total 14 columns):\n",
      " #   Column              Non-Null Count  Dtype  \n",
      "---  ------              --------------  -----  \n",
      " 0   ID                  5000 non-null   int64  \n",
      " 1   Age                 5000 non-null   int64  \n",
      " 2   Experience_years    5000 non-null   int64  \n",
      " 3   Income_thousands    5000 non-null   int64  \n",
      " 4   Sort Code           5000 non-null   int64  \n",
      " 5   Family              5000 non-null   int64  \n",
      " 6   Credit Score        5000 non-null   float64\n",
      " 7   Education           5000 non-null   object \n",
      " 8   Mortgage_thousands  5000 non-null   int64  \n",
      " 9   Personal Loan       5000 non-null   object \n",
      " 10  Securities Account  5000 non-null   object \n",
      " 11  CD Account          5000 non-null   object \n",
      " 12  Online Banking      5000 non-null   object \n",
      " 13  CreditCard          5000 non-null   object \n",
      "dtypes: float64(1), int64(7), object(6)\n",
      "memory usage: 547.0+ KB\n"
     ]
    }
   ],
   "source": [
    "df.info()"
   ]
  },
  {
   "cell_type": "code",
   "execution_count": 8,
   "id": "58d5b83d-d40c-4cbf-bab9-9085a1f03c1c",
   "metadata": {},
   "outputs": [
    {
     "data": {
      "text/html": [
       "<div>\n",
       "<style scoped>\n",
       "    .dataframe tbody tr th:only-of-type {\n",
       "        vertical-align: middle;\n",
       "    }\n",
       "\n",
       "    .dataframe tbody tr th {\n",
       "        vertical-align: top;\n",
       "    }\n",
       "\n",
       "    .dataframe thead th {\n",
       "        text-align: right;\n",
       "    }\n",
       "</style>\n",
       "<table border=\"1\" class=\"dataframe\">\n",
       "  <thead>\n",
       "    <tr style=\"text-align: right;\">\n",
       "      <th></th>\n",
       "      <th>ID</th>\n",
       "      <th>Age</th>\n",
       "      <th>Experience_years</th>\n",
       "      <th>Income_thousands</th>\n",
       "      <th>Sort Code</th>\n",
       "      <th>Family</th>\n",
       "      <th>Credit Score</th>\n",
       "      <th>Mortgage_thousands</th>\n",
       "    </tr>\n",
       "  </thead>\n",
       "  <tbody>\n",
       "    <tr>\n",
       "      <th>count</th>\n",
       "      <td>5000.000000</td>\n",
       "      <td>5000.000000</td>\n",
       "      <td>5000.000000</td>\n",
       "      <td>5000.000000</td>\n",
       "      <td>5000.000000</td>\n",
       "      <td>5000.000000</td>\n",
       "      <td>5000.000000</td>\n",
       "      <td>5000.000000</td>\n",
       "    </tr>\n",
       "    <tr>\n",
       "      <th>mean</th>\n",
       "      <td>2500.500000</td>\n",
       "      <td>45.338400</td>\n",
       "      <td>20.104600</td>\n",
       "      <td>73.774200</td>\n",
       "      <td>93152.503000</td>\n",
       "      <td>2.396400</td>\n",
       "      <td>1.937913</td>\n",
       "      <td>56.498800</td>\n",
       "    </tr>\n",
       "    <tr>\n",
       "      <th>std</th>\n",
       "      <td>1443.520003</td>\n",
       "      <td>11.463166</td>\n",
       "      <td>11.467954</td>\n",
       "      <td>46.033729</td>\n",
       "      <td>2121.852197</td>\n",
       "      <td>1.147663</td>\n",
       "      <td>1.747666</td>\n",
       "      <td>101.713802</td>\n",
       "    </tr>\n",
       "    <tr>\n",
       "      <th>min</th>\n",
       "      <td>1.000000</td>\n",
       "      <td>23.000000</td>\n",
       "      <td>-3.000000</td>\n",
       "      <td>8.000000</td>\n",
       "      <td>9307.000000</td>\n",
       "      <td>1.000000</td>\n",
       "      <td>0.000000</td>\n",
       "      <td>0.000000</td>\n",
       "    </tr>\n",
       "    <tr>\n",
       "      <th>25%</th>\n",
       "      <td>1250.750000</td>\n",
       "      <td>35.000000</td>\n",
       "      <td>10.000000</td>\n",
       "      <td>39.000000</td>\n",
       "      <td>91911.000000</td>\n",
       "      <td>1.000000</td>\n",
       "      <td>0.700000</td>\n",
       "      <td>0.000000</td>\n",
       "    </tr>\n",
       "    <tr>\n",
       "      <th>50%</th>\n",
       "      <td>2500.500000</td>\n",
       "      <td>45.000000</td>\n",
       "      <td>20.000000</td>\n",
       "      <td>64.000000</td>\n",
       "      <td>93437.000000</td>\n",
       "      <td>2.000000</td>\n",
       "      <td>1.500000</td>\n",
       "      <td>0.000000</td>\n",
       "    </tr>\n",
       "    <tr>\n",
       "      <th>75%</th>\n",
       "      <td>3750.250000</td>\n",
       "      <td>55.000000</td>\n",
       "      <td>30.000000</td>\n",
       "      <td>98.000000</td>\n",
       "      <td>94608.000000</td>\n",
       "      <td>3.000000</td>\n",
       "      <td>2.500000</td>\n",
       "      <td>101.000000</td>\n",
       "    </tr>\n",
       "    <tr>\n",
       "      <th>max</th>\n",
       "      <td>5000.000000</td>\n",
       "      <td>67.000000</td>\n",
       "      <td>43.000000</td>\n",
       "      <td>224.000000</td>\n",
       "      <td>96651.000000</td>\n",
       "      <td>4.000000</td>\n",
       "      <td>10.000000</td>\n",
       "      <td>635.000000</td>\n",
       "    </tr>\n",
       "  </tbody>\n",
       "</table>\n",
       "</div>"
      ],
      "text/plain": [
       "                ID          Age  Experience_years  Income_thousands  \\\n",
       "count  5000.000000  5000.000000       5000.000000       5000.000000   \n",
       "mean   2500.500000    45.338400         20.104600         73.774200   \n",
       "std    1443.520003    11.463166         11.467954         46.033729   \n",
       "min       1.000000    23.000000         -3.000000          8.000000   \n",
       "25%    1250.750000    35.000000         10.000000         39.000000   \n",
       "50%    2500.500000    45.000000         20.000000         64.000000   \n",
       "75%    3750.250000    55.000000         30.000000         98.000000   \n",
       "max    5000.000000    67.000000         43.000000        224.000000   \n",
       "\n",
       "          Sort Code       Family  Credit Score  Mortgage_thousands  \n",
       "count   5000.000000  5000.000000   5000.000000         5000.000000  \n",
       "mean   93152.503000     2.396400      1.937913           56.498800  \n",
       "std     2121.852197     1.147663      1.747666          101.713802  \n",
       "min     9307.000000     1.000000      0.000000            0.000000  \n",
       "25%    91911.000000     1.000000      0.700000            0.000000  \n",
       "50%    93437.000000     2.000000      1.500000            0.000000  \n",
       "75%    94608.000000     3.000000      2.500000          101.000000  \n",
       "max    96651.000000     4.000000     10.000000          635.000000  "
      ]
     },
     "execution_count": 8,
     "metadata": {},
     "output_type": "execute_result"
    }
   ],
   "source": [
    "df.describe()"
   ]
  },
  {
   "cell_type": "markdown",
   "id": "59f97c20-7458-469a-91d2-0ef7c982ee59",
   "metadata": {},
   "source": [
    "### Negative Values\n",
    "When checking the values of the numerical columns,  negative values can be observed in column 'Experience_years'. Negative values for experience are not realistic, for this reason they are going to be removed. "
   ]
  },
  {
   "cell_type": "markdown",
   "id": "3bdb3a39-e661-4375-b5cd-a95a20c00c0c",
   "metadata": {},
   "source": [
    "Double checking to confirm the existence of negative values."
   ]
  },
  {
   "cell_type": "code",
   "execution_count": 9,
   "id": "4bf6f528-28bd-4ac1-9118-0f65fd546cc1",
   "metadata": {},
   "outputs": [
    {
     "name": "stdout",
     "output_type": "stream",
     "text": [
      "\n",
      "Columns with negative values:\n",
      " Age                   False\n",
      "Experience_years       True\n",
      "Income_thousands      False\n",
      "Family                False\n",
      "Credit Score          False\n",
      "Mortgage_thousands    False\n",
      "dtype: bool\n",
      "\n",
      "Amount:\n",
      " 52\n"
     ]
    }
   ],
   "source": [
    "# Select the numerical columns from the DataFrame\n",
    "df_numerical = df[['Age', 'Experience_years', 'Income_thousands', 'Family', 'Credit Score', 'Mortgage_thousands']]\n",
    "\n",
    "# Check for negative numbers in the selected numerical columns\n",
    "negative_values = (df_numerical < 0)\n",
    "\n",
    "# Check if there are any negative values in each column\n",
    "print(\"\\nColumns with negative values:\\n\", negative_values.any())\n",
    "\n",
    "# Checkin amount of rows\n",
    "print(\"\\nAmount:\\n\", df_numerical[df_numerical < 0].stack().count())"
   ]
  },
  {
   "cell_type": "markdown",
   "id": "bb542314-0972-46b1-bd80-dc9766765271",
   "metadata": {},
   "source": [
    "### Removing Rows\n",
    "The choice to remove instead of replacing them is due to the size of the dataset (5000 rows). It can easily withstand the loss of data, ensuring the model is trained on clean and accurate data."
   ]
  },
  {
   "cell_type": "code",
   "execution_count": 11,
   "id": "e3711352-3d69-4860-81c2-be66e2a67e9f",
   "metadata": {},
   "outputs": [],
   "source": [
    "# Remove rows with negative values in Experience_years\n",
    "df_cleaned = df[df['Experience_years'] >= 0]"
   ]
  },
  {
   "cell_type": "markdown",
   "id": "fd66c081-94e5-4637-a3f5-378470c919e0",
   "metadata": {},
   "source": [
    "### Dropping unnecessary columns\n",
    "Features 'ID' and 'Sort Code' don't provide any meaningful relationship with the target variable and will be removed to reduce noise introduced into the model. All other features will be used in the model."
   ]
  },
  {
   "cell_type": "code",
   "execution_count": 12,
   "id": "9f8b561e-a288-4577-a331-99e4a8c34105",
   "metadata": {},
   "outputs": [],
   "source": [
    "df_cleaned.drop(columns=['ID', 'Sort Code'], inplace=True)"
   ]
  },
  {
   "cell_type": "markdown",
   "id": "cd8127eb-2b6b-49d7-a2a7-eae73b0c04f7",
   "metadata": {},
   "source": [
    "### Encoding categorical variables\n",
    "\n",
    "This step transforms categories into a format that can be provided to the model."
   ]
  },
  {
   "cell_type": "code",
   "execution_count": 13,
   "id": "ee96aa3b-b99a-44dd-b112-e6bdb915dec8",
   "metadata": {},
   "outputs": [],
   "source": [
    "# Encode categorical values using dummies\n",
    "categorical_columns = ['Education', 'Personal Loan', 'Securities Account', 'CD Account', 'Online Banking', 'CreditCard']\n",
    "df_encoded = pd.get_dummies(df_cleaned, columns=categorical_columns, drop_first=True)"
   ]
  },
  {
   "cell_type": "code",
   "execution_count": 14,
   "id": "b2d7f7c3-8652-4547-b42f-dea281cd17d2",
   "metadata": {},
   "outputs": [],
   "source": [
    "from sklearn.model_selection import train_test_split\n",
    "\n",
    "# Define the feature matrix X and the target vector y\n",
    "X = df_encoded.drop('Income_thousands', axis=1)\n",
    "y = df_encoded['Income_thousands']\n",
    "\n",
    "# Split the data for training and testing\n",
    "X_train, X_test, y_train, y_test = train_test_split(X, y, test_size=0.2, random_state=123)\n"
   ]
  },
  {
   "cell_type": "markdown",
   "id": "edded77f-4458-4392-b1cf-2c2f83a72548",
   "metadata": {},
   "source": [
    "### Scaling features\n",
    "Standardazing the features to have a mean of 0 and a standard deviation of 1.\n",
    "It helps in speeding up training and improves model performance.\n"
   ]
  },
  {
   "cell_type": "code",
   "execution_count": 15,
   "id": "b74cbfd5-444e-4385-a8d8-5add955af41b",
   "metadata": {},
   "outputs": [],
   "source": [
    "from sklearn.preprocessing import StandardScaler\n",
    "\n",
    "# Initialize the scaler\n",
    "scaler = StandardScaler()\n",
    "\n",
    "# Fit and transform the training data\n",
    "X_train_scaled = scaler.fit_transform(X_train)\n",
    "\n",
    "# Transform the testing data\n",
    "X_test_scaled = scaler.transform(X_test)\n"
   ]
  },
  {
   "cell_type": "markdown",
   "id": "a5e0564b-36d3-411b-a20b-4db771abd781",
   "metadata": {},
   "source": [
    "## Neural Network Model\n",
    "\n",
    "The input layer has as many neurons as there are features in the dataset, ensuring each feature is represented. The first hidden layer has 64 neurons with a 'ReLU' activation function. The second hidden layer has 32 neurons with a 'ReLU' activation function, so the model can learn more complex patterns in the data."
   ]
  },
  {
   "cell_type": "code",
   "execution_count": 17,
   "id": "173ac84f-81af-4477-b74d-3353b5d35e86",
   "metadata": {
    "scrolled": true
   },
   "outputs": [
    {
     "name": "stdout",
     "output_type": "stream",
     "text": [
      "Epoch 1/100\n",
      "\u001b[1m124/124\u001b[0m \u001b[32m━━━━━━━━━━━━━━━━━━━━\u001b[0m\u001b[37m\u001b[0m \u001b[1m3s\u001b[0m 5ms/step - loss: 7093.2598 - mean_absolute_error: 70.5046 - val_loss: 3890.7104 - val_mean_absolute_error: 48.6288\n",
      "Epoch 2/100\n",
      "\u001b[1m124/124\u001b[0m \u001b[32m━━━━━━━━━━━━━━━━━━━━\u001b[0m\u001b[37m\u001b[0m \u001b[1m0s\u001b[0m 3ms/step - loss: 2617.8020 - mean_absolute_error: 38.5554 - val_loss: 925.6763 - val_mean_absolute_error: 24.4655\n",
      "Epoch 3/100\n",
      "\u001b[1m124/124\u001b[0m \u001b[32m━━━━━━━━━━━━━━━━━━━━\u001b[0m\u001b[37m\u001b[0m \u001b[1m0s\u001b[0m 3ms/step - loss: 967.3458 - mean_absolute_error: 24.8558 - val_loss: 864.2235 - val_mean_absolute_error: 23.6064\n",
      "Epoch 4/100\n",
      "\u001b[1m124/124\u001b[0m \u001b[32m━━━━━━━━━━━━━━━━━━━━\u001b[0m\u001b[37m\u001b[0m \u001b[1m1s\u001b[0m 4ms/step - loss: 905.2729 - mean_absolute_error: 24.0984 - val_loss: 842.3697 - val_mean_absolute_error: 23.2202\n",
      "Epoch 5/100\n",
      "\u001b[1m124/124\u001b[0m \u001b[32m━━━━━━━━━━━━━━━━━━━━\u001b[0m\u001b[37m\u001b[0m \u001b[1m0s\u001b[0m 3ms/step - loss: 911.9300 - mean_absolute_error: 23.9451 - val_loss: 827.8336 - val_mean_absolute_error: 22.9454\n",
      "Epoch 6/100\n",
      "\u001b[1m124/124\u001b[0m \u001b[32m━━━━━━━━━━━━━━━━━━━━\u001b[0m\u001b[37m\u001b[0m \u001b[1m0s\u001b[0m 3ms/step - loss: 889.2609 - mean_absolute_error: 23.7695 - val_loss: 813.8430 - val_mean_absolute_error: 22.9029\n",
      "Epoch 7/100\n",
      "\u001b[1m124/124\u001b[0m \u001b[32m━━━━━━━━━━━━━━━━━━━━\u001b[0m\u001b[37m\u001b[0m \u001b[1m0s\u001b[0m 3ms/step - loss: 873.9241 - mean_absolute_error: 23.6275 - val_loss: 806.9215 - val_mean_absolute_error: 22.6932\n",
      "Epoch 8/100\n",
      "\u001b[1m124/124\u001b[0m \u001b[32m━━━━━━━━━━━━━━━━━━━━\u001b[0m\u001b[37m\u001b[0m \u001b[1m0s\u001b[0m 3ms/step - loss: 859.4514 - mean_absolute_error: 22.9769 - val_loss: 799.1943 - val_mean_absolute_error: 22.6722\n",
      "Epoch 9/100\n",
      "\u001b[1m124/124\u001b[0m \u001b[32m━━━━━━━━━━━━━━━━━━━━\u001b[0m\u001b[37m\u001b[0m \u001b[1m0s\u001b[0m 3ms/step - loss: 844.9336 - mean_absolute_error: 22.8742 - val_loss: 794.9137 - val_mean_absolute_error: 22.3885\n",
      "Epoch 10/100\n",
      "\u001b[1m124/124\u001b[0m \u001b[32m━━━━━━━━━━━━━━━━━━━━\u001b[0m\u001b[37m\u001b[0m \u001b[1m0s\u001b[0m 3ms/step - loss: 809.9037 - mean_absolute_error: 22.6374 - val_loss: 790.6346 - val_mean_absolute_error: 22.4969\n",
      "Epoch 11/100\n",
      "\u001b[1m124/124\u001b[0m \u001b[32m━━━━━━━━━━━━━━━━━━━━\u001b[0m\u001b[37m\u001b[0m \u001b[1m0s\u001b[0m 3ms/step - loss: 800.5593 - mean_absolute_error: 22.4327 - val_loss: 788.0213 - val_mean_absolute_error: 22.1935\n",
      "Epoch 12/100\n",
      "\u001b[1m124/124\u001b[0m \u001b[32m━━━━━━━━━━━━━━━━━━━━\u001b[0m\u001b[37m\u001b[0m \u001b[1m1s\u001b[0m 4ms/step - loss: 809.8231 - mean_absolute_error: 22.4373 - val_loss: 780.9163 - val_mean_absolute_error: 22.1937\n",
      "Epoch 13/100\n",
      "\u001b[1m124/124\u001b[0m \u001b[32m━━━━━━━━━━━━━━━━━━━━\u001b[0m\u001b[37m\u001b[0m \u001b[1m0s\u001b[0m 3ms/step - loss: 796.2026 - mean_absolute_error: 22.2972 - val_loss: 778.1100 - val_mean_absolute_error: 22.0480\n",
      "Epoch 14/100\n",
      "\u001b[1m124/124\u001b[0m \u001b[32m━━━━━━━━━━━━━━━━━━━━\u001b[0m\u001b[37m\u001b[0m \u001b[1m0s\u001b[0m 3ms/step - loss: 818.0053 - mean_absolute_error: 22.5166 - val_loss: 776.0773 - val_mean_absolute_error: 21.9900\n",
      "Epoch 15/100\n",
      "\u001b[1m124/124\u001b[0m \u001b[32m━━━━━━━━━━━━━━━━━━━━\u001b[0m\u001b[37m\u001b[0m \u001b[1m0s\u001b[0m 3ms/step - loss: 777.5760 - mean_absolute_error: 21.7995 - val_loss: 771.1667 - val_mean_absolute_error: 21.9539\n",
      "Epoch 16/100\n",
      "\u001b[1m124/124\u001b[0m \u001b[32m━━━━━━━━━━━━━━━━━━━━\u001b[0m\u001b[37m\u001b[0m \u001b[1m0s\u001b[0m 3ms/step - loss: 799.5162 - mean_absolute_error: 22.0013 - val_loss: 765.5248 - val_mean_absolute_error: 21.8817\n",
      "Epoch 17/100\n",
      "\u001b[1m124/124\u001b[0m \u001b[32m━━━━━━━━━━━━━━━━━━━━\u001b[0m\u001b[37m\u001b[0m \u001b[1m0s\u001b[0m 3ms/step - loss: 797.3088 - mean_absolute_error: 22.0888 - val_loss: 771.8619 - val_mean_absolute_error: 21.8747\n",
      "Epoch 18/100\n",
      "\u001b[1m124/124\u001b[0m \u001b[32m━━━━━━━━━━━━━━━━━━━━\u001b[0m\u001b[37m\u001b[0m \u001b[1m0s\u001b[0m 3ms/step - loss: 808.7405 - mean_absolute_error: 22.0768 - val_loss: 765.0325 - val_mean_absolute_error: 21.7967\n",
      "Epoch 19/100\n",
      "\u001b[1m124/124\u001b[0m \u001b[32m━━━━━━━━━━━━━━━━━━━━\u001b[0m\u001b[37m\u001b[0m \u001b[1m0s\u001b[0m 3ms/step - loss: 728.6799 - mean_absolute_error: 21.3225 - val_loss: 768.9521 - val_mean_absolute_error: 22.0065\n",
      "Epoch 20/100\n",
      "\u001b[1m124/124\u001b[0m \u001b[32m━━━━━━━━━━━━━━━━━━━━\u001b[0m\u001b[37m\u001b[0m \u001b[1m0s\u001b[0m 3ms/step - loss: 769.3375 - mean_absolute_error: 21.7745 - val_loss: 765.1984 - val_mean_absolute_error: 21.7774\n",
      "Epoch 21/100\n",
      "\u001b[1m124/124\u001b[0m \u001b[32m━━━━━━━━━━━━━━━━━━━━\u001b[0m\u001b[37m\u001b[0m \u001b[1m0s\u001b[0m 3ms/step - loss: 761.9386 - mean_absolute_error: 21.7419 - val_loss: 762.4684 - val_mean_absolute_error: 21.6603\n",
      "Epoch 22/100\n",
      "\u001b[1m124/124\u001b[0m \u001b[32m━━━━━━━━━━━━━━━━━━━━\u001b[0m\u001b[37m\u001b[0m \u001b[1m0s\u001b[0m 3ms/step - loss: 735.1453 - mean_absolute_error: 21.3166 - val_loss: 757.5925 - val_mean_absolute_error: 21.7022\n",
      "Epoch 23/100\n",
      "\u001b[1m124/124\u001b[0m \u001b[32m━━━━━━━━━━━━━━━━━━━━\u001b[0m\u001b[37m\u001b[0m \u001b[1m0s\u001b[0m 3ms/step - loss: 762.0056 - mean_absolute_error: 21.6730 - val_loss: 755.8101 - val_mean_absolute_error: 21.6253\n",
      "Epoch 24/100\n",
      "\u001b[1m124/124\u001b[0m \u001b[32m━━━━━━━━━━━━━━━━━━━━\u001b[0m\u001b[37m\u001b[0m \u001b[1m1s\u001b[0m 4ms/step - loss: 751.1287 - mean_absolute_error: 21.4153 - val_loss: 753.4380 - val_mean_absolute_error: 21.5951\n",
      "Epoch 25/100\n",
      "\u001b[1m124/124\u001b[0m \u001b[32m━━━━━━━━━━━━━━━━━━━━\u001b[0m\u001b[37m\u001b[0m \u001b[1m0s\u001b[0m 3ms/step - loss: 746.8871 - mean_absolute_error: 21.3607 - val_loss: 759.3200 - val_mean_absolute_error: 21.5982\n",
      "Epoch 26/100\n",
      "\u001b[1m124/124\u001b[0m \u001b[32m━━━━━━━━━━━━━━━━━━━━\u001b[0m\u001b[37m\u001b[0m \u001b[1m0s\u001b[0m 3ms/step - loss: 749.4230 - mean_absolute_error: 21.2974 - val_loss: 750.9798 - val_mean_absolute_error: 21.4981\n",
      "Epoch 27/100\n",
      "\u001b[1m124/124\u001b[0m \u001b[32m━━━━━━━━━━━━━━━━━━━━\u001b[0m\u001b[37m\u001b[0m \u001b[1m0s\u001b[0m 3ms/step - loss: 754.7816 - mean_absolute_error: 21.5149 - val_loss: 753.5477 - val_mean_absolute_error: 21.6796\n",
      "Epoch 28/100\n",
      "\u001b[1m124/124\u001b[0m \u001b[32m━━━━━━━━━━━━━━━━━━━━\u001b[0m\u001b[37m\u001b[0m \u001b[1m0s\u001b[0m 3ms/step - loss: 756.8776 - mean_absolute_error: 21.4291 - val_loss: 745.2302 - val_mean_absolute_error: 21.3802\n",
      "Epoch 29/100\n",
      "\u001b[1m124/124\u001b[0m \u001b[32m━━━━━━━━━━━━━━━━━━━━\u001b[0m\u001b[37m\u001b[0m \u001b[1m0s\u001b[0m 3ms/step - loss: 759.0588 - mean_absolute_error: 21.4324 - val_loss: 749.8843 - val_mean_absolute_error: 21.4536\n",
      "Epoch 30/100\n",
      "\u001b[1m124/124\u001b[0m \u001b[32m━━━━━━━━━━━━━━━━━━━━\u001b[0m\u001b[37m\u001b[0m \u001b[1m0s\u001b[0m 3ms/step - loss: 748.2659 - mean_absolute_error: 21.2137 - val_loss: 745.6047 - val_mean_absolute_error: 21.3298\n",
      "Epoch 31/100\n",
      "\u001b[1m124/124\u001b[0m \u001b[32m━━━━━━━━━━━━━━━━━━━━\u001b[0m\u001b[37m\u001b[0m \u001b[1m0s\u001b[0m 3ms/step - loss: 729.3713 - mean_absolute_error: 21.2101 - val_loss: 741.2146 - val_mean_absolute_error: 21.4153\n",
      "Epoch 32/100\n",
      "\u001b[1m124/124\u001b[0m \u001b[32m━━━━━━━━━━━━━━━━━━━━\u001b[0m\u001b[37m\u001b[0m \u001b[1m0s\u001b[0m 3ms/step - loss: 718.7183 - mean_absolute_error: 21.0758 - val_loss: 741.6616 - val_mean_absolute_error: 21.3362\n",
      "Epoch 33/100\n",
      "\u001b[1m124/124\u001b[0m \u001b[32m━━━━━━━━━━━━━━━━━━━━\u001b[0m\u001b[37m\u001b[0m \u001b[1m1s\u001b[0m 4ms/step - loss: 733.4440 - mean_absolute_error: 21.1520 - val_loss: 742.4543 - val_mean_absolute_error: 21.1322\n",
      "Epoch 34/100\n",
      "\u001b[1m124/124\u001b[0m \u001b[32m━━━━━━━━━━━━━━━━━━━━\u001b[0m\u001b[37m\u001b[0m \u001b[1m0s\u001b[0m 3ms/step - loss: 767.8986 - mean_absolute_error: 21.3493 - val_loss: 742.7294 - val_mean_absolute_error: 21.2457\n",
      "Epoch 35/100\n",
      "\u001b[1m124/124\u001b[0m \u001b[32m━━━━━━━━━━━━━━━━━━━━\u001b[0m\u001b[37m\u001b[0m \u001b[1m0s\u001b[0m 3ms/step - loss: 716.3890 - mean_absolute_error: 20.6461 - val_loss: 734.0858 - val_mean_absolute_error: 21.3756\n",
      "Epoch 36/100\n",
      "\u001b[1m124/124\u001b[0m \u001b[32m━━━━━━━━━━━━━━━━━━━━\u001b[0m\u001b[37m\u001b[0m \u001b[1m0s\u001b[0m 3ms/step - loss: 750.4724 - mean_absolute_error: 21.2905 - val_loss: 739.7864 - val_mean_absolute_error: 21.4449\n",
      "Epoch 37/100\n",
      "\u001b[1m124/124\u001b[0m \u001b[32m━━━━━━━━━━━━━━━━━━━━\u001b[0m\u001b[37m\u001b[0m \u001b[1m0s\u001b[0m 3ms/step - loss: 759.5172 - mean_absolute_error: 21.2822 - val_loss: 735.8342 - val_mean_absolute_error: 21.2487\n",
      "Epoch 38/100\n",
      "\u001b[1m124/124\u001b[0m \u001b[32m━━━━━━━━━━━━━━━━━━━━\u001b[0m\u001b[37m\u001b[0m \u001b[1m0s\u001b[0m 3ms/step - loss: 745.8972 - mean_absolute_error: 21.0766 - val_loss: 740.5500 - val_mean_absolute_error: 21.4924\n",
      "Epoch 39/100\n",
      "\u001b[1m124/124\u001b[0m \u001b[32m━━━━━━━━━━━━━━━━━━━━\u001b[0m\u001b[37m\u001b[0m \u001b[1m0s\u001b[0m 3ms/step - loss: 737.1743 - mean_absolute_error: 21.1874 - val_loss: 733.8550 - val_mean_absolute_error: 21.1701\n",
      "Epoch 40/100\n",
      "\u001b[1m124/124\u001b[0m \u001b[32m━━━━━━━━━━━━━━━━━━━━\u001b[0m\u001b[37m\u001b[0m \u001b[1m0s\u001b[0m 3ms/step - loss: 715.2449 - mean_absolute_error: 20.9707 - val_loss: 731.6291 - val_mean_absolute_error: 21.0183\n",
      "Epoch 41/100\n",
      "\u001b[1m124/124\u001b[0m \u001b[32m━━━━━━━━━━━━━━━━━━━━\u001b[0m\u001b[37m\u001b[0m \u001b[1m1s\u001b[0m 4ms/step - loss: 774.7229 - mean_absolute_error: 21.5657 - val_loss: 731.9477 - val_mean_absolute_error: 21.2918\n",
      "Epoch 42/100\n",
      "\u001b[1m124/124\u001b[0m \u001b[32m━━━━━━━━━━━━━━━━━━━━\u001b[0m\u001b[37m\u001b[0m \u001b[1m0s\u001b[0m 3ms/step - loss: 702.1443 - mean_absolute_error: 20.4779 - val_loss: 736.5259 - val_mean_absolute_error: 21.3344\n",
      "Epoch 43/100\n",
      "\u001b[1m124/124\u001b[0m \u001b[32m━━━━━━━━━━━━━━━━━━━━\u001b[0m\u001b[37m\u001b[0m \u001b[1m0s\u001b[0m 3ms/step - loss: 728.0717 - mean_absolute_error: 21.2305 - val_loss: 743.2645 - val_mean_absolute_error: 21.0808\n",
      "Epoch 44/100\n",
      "\u001b[1m124/124\u001b[0m \u001b[32m━━━━━━━━━━━━━━━━━━━━\u001b[0m\u001b[37m\u001b[0m \u001b[1m0s\u001b[0m 3ms/step - loss: 734.8766 - mean_absolute_error: 21.0112 - val_loss: 733.4284 - val_mean_absolute_error: 21.2782\n",
      "Epoch 45/100\n",
      "\u001b[1m124/124\u001b[0m \u001b[32m━━━━━━━━━━━━━━━━━━━━\u001b[0m\u001b[37m\u001b[0m \u001b[1m0s\u001b[0m 3ms/step - loss: 710.2404 - mean_absolute_error: 20.5971 - val_loss: 730.1308 - val_mean_absolute_error: 21.3782\n",
      "Epoch 46/100\n",
      "\u001b[1m124/124\u001b[0m \u001b[32m━━━━━━━━━━━━━━━━━━━━\u001b[0m\u001b[37m\u001b[0m \u001b[1m0s\u001b[0m 3ms/step - loss: 700.1833 - mean_absolute_error: 20.7453 - val_loss: 726.3484 - val_mean_absolute_error: 21.2165\n",
      "Epoch 47/100\n",
      "\u001b[1m124/124\u001b[0m \u001b[32m━━━━━━━━━━━━━━━━━━━━\u001b[0m\u001b[37m\u001b[0m \u001b[1m1s\u001b[0m 4ms/step - loss: 754.9622 - mean_absolute_error: 21.2607 - val_loss: 732.8884 - val_mean_absolute_error: 21.0191\n",
      "Epoch 48/100\n",
      "\u001b[1m124/124\u001b[0m \u001b[32m━━━━━━━━━━━━━━━━━━━━\u001b[0m\u001b[37m\u001b[0m \u001b[1m0s\u001b[0m 3ms/step - loss: 723.0804 - mean_absolute_error: 20.6760 - val_loss: 732.5001 - val_mean_absolute_error: 21.3121\n",
      "Epoch 49/100\n",
      "\u001b[1m124/124\u001b[0m \u001b[32m━━━━━━━━━━━━━━━━━━━━\u001b[0m\u001b[37m\u001b[0m \u001b[1m0s\u001b[0m 3ms/step - loss: 709.9456 - mean_absolute_error: 20.5319 - val_loss: 731.7700 - val_mean_absolute_error: 21.2114\n",
      "Epoch 50/100\n",
      "\u001b[1m124/124\u001b[0m \u001b[32m━━━━━━━━━━━━━━━━━━━━\u001b[0m\u001b[37m\u001b[0m \u001b[1m0s\u001b[0m 3ms/step - loss: 697.0411 - mean_absolute_error: 20.4063 - val_loss: 732.9676 - val_mean_absolute_error: 20.9260\n",
      "Epoch 51/100\n",
      "\u001b[1m124/124\u001b[0m \u001b[32m━━━━━━━━━━━━━━━━━━━━\u001b[0m\u001b[37m\u001b[0m \u001b[1m0s\u001b[0m 3ms/step - loss: 707.2369 - mean_absolute_error: 20.4498 - val_loss: 731.5013 - val_mean_absolute_error: 20.9829\n",
      "Epoch 52/100\n",
      "\u001b[1m124/124\u001b[0m \u001b[32m━━━━━━━━━━━━━━━━━━━━\u001b[0m\u001b[37m\u001b[0m \u001b[1m0s\u001b[0m 3ms/step - loss: 693.4261 - mean_absolute_error: 20.0685 - val_loss: 734.6191 - val_mean_absolute_error: 21.4767\n",
      "Epoch 53/100\n",
      "\u001b[1m124/124\u001b[0m \u001b[32m━━━━━━━━━━━━━━━━━━━━\u001b[0m\u001b[37m\u001b[0m \u001b[1m1s\u001b[0m 4ms/step - loss: 678.5786 - mean_absolute_error: 20.4471 - val_loss: 733.6179 - val_mean_absolute_error: 21.3951\n",
      "Epoch 54/100\n",
      "\u001b[1m124/124\u001b[0m \u001b[32m━━━━━━━━━━━━━━━━━━━━\u001b[0m\u001b[37m\u001b[0m \u001b[1m0s\u001b[0m 3ms/step - loss: 697.0832 - mean_absolute_error: 20.5645 - val_loss: 728.7673 - val_mean_absolute_error: 21.0756\n",
      "Epoch 55/100\n",
      "\u001b[1m124/124\u001b[0m \u001b[32m━━━━━━━━━━━━━━━━━━━━\u001b[0m\u001b[37m\u001b[0m \u001b[1m0s\u001b[0m 3ms/step - loss: 680.3774 - mean_absolute_error: 20.1286 - val_loss: 728.6508 - val_mean_absolute_error: 21.0921\n",
      "Epoch 56/100\n",
      "\u001b[1m124/124\u001b[0m \u001b[32m━━━━━━━━━━━━━━━━━━━━\u001b[0m\u001b[37m\u001b[0m \u001b[1m0s\u001b[0m 3ms/step - loss: 688.4722 - mean_absolute_error: 20.3137 - val_loss: 730.7533 - val_mean_absolute_error: 21.1302\n",
      "Epoch 57/100\n",
      "\u001b[1m124/124\u001b[0m \u001b[32m━━━━━━━━━━━━━━━━━━━━\u001b[0m\u001b[37m\u001b[0m \u001b[1m0s\u001b[0m 3ms/step - loss: 679.2308 - mean_absolute_error: 20.1665 - val_loss: 740.8218 - val_mean_absolute_error: 21.7107\n",
      "Epoch 58/100\n",
      "\u001b[1m124/124\u001b[0m \u001b[32m━━━━━━━━━━━━━━━━━━━━\u001b[0m\u001b[37m\u001b[0m \u001b[1m0s\u001b[0m 3ms/step - loss: 685.1415 - mean_absolute_error: 20.3656 - val_loss: 726.3922 - val_mean_absolute_error: 20.9487\n",
      "Epoch 59/100\n",
      "\u001b[1m124/124\u001b[0m \u001b[32m━━━━━━━━━━━━━━━━━━━━\u001b[0m\u001b[37m\u001b[0m \u001b[1m0s\u001b[0m 3ms/step - loss: 744.1766 - mean_absolute_error: 20.8297 - val_loss: 730.7142 - val_mean_absolute_error: 21.0455\n",
      "Epoch 60/100\n",
      "\u001b[1m124/124\u001b[0m \u001b[32m━━━━━━━━━━━━━━━━━━━━\u001b[0m\u001b[37m\u001b[0m \u001b[1m0s\u001b[0m 3ms/step - loss: 701.7487 - mean_absolute_error: 20.2734 - val_loss: 725.9902 - val_mean_absolute_error: 21.0649\n",
      "Epoch 61/100\n",
      "\u001b[1m124/124\u001b[0m \u001b[32m━━━━━━━━━━━━━━━━━━━━\u001b[0m\u001b[37m\u001b[0m \u001b[1m0s\u001b[0m 3ms/step - loss: 709.4996 - mean_absolute_error: 20.6681 - val_loss: 727.0694 - val_mean_absolute_error: 21.2401\n",
      "Epoch 62/100\n",
      "\u001b[1m124/124\u001b[0m \u001b[32m━━━━━━━━━━━━━━━━━━━━\u001b[0m\u001b[37m\u001b[0m \u001b[1m0s\u001b[0m 3ms/step - loss: 717.7140 - mean_absolute_error: 20.5996 - val_loss: 732.4529 - val_mean_absolute_error: 21.3972\n",
      "Epoch 63/100\n",
      "\u001b[1m124/124\u001b[0m \u001b[32m━━━━━━━━━━━━━━━━━━━━\u001b[0m\u001b[37m\u001b[0m \u001b[1m0s\u001b[0m 3ms/step - loss: 683.0131 - mean_absolute_error: 20.2264 - val_loss: 731.6304 - val_mean_absolute_error: 21.0292\n",
      "Epoch 64/100\n",
      "\u001b[1m124/124\u001b[0m \u001b[32m━━━━━━━━━━━━━━━━━━━━\u001b[0m\u001b[37m\u001b[0m \u001b[1m0s\u001b[0m 4ms/step - loss: 701.9340 - mean_absolute_error: 20.3079 - val_loss: 729.0010 - val_mean_absolute_error: 21.0590\n",
      "Epoch 65/100\n",
      "\u001b[1m124/124\u001b[0m \u001b[32m━━━━━━━━━━━━━━━━━━━━\u001b[0m\u001b[37m\u001b[0m \u001b[1m0s\u001b[0m 3ms/step - loss: 710.2286 - mean_absolute_error: 20.4404 - val_loss: 727.5192 - val_mean_absolute_error: 20.9545\n",
      "Epoch 66/100\n",
      "\u001b[1m124/124\u001b[0m \u001b[32m━━━━━━━━━━━━━━━━━━━━\u001b[0m\u001b[37m\u001b[0m \u001b[1m1s\u001b[0m 4ms/step - loss: 780.2256 - mean_absolute_error: 21.1305 - val_loss: 730.0989 - val_mean_absolute_error: 21.2769\n",
      "Epoch 67/100\n",
      "\u001b[1m124/124\u001b[0m \u001b[32m━━━━━━━━━━━━━━━━━━━━\u001b[0m\u001b[37m\u001b[0m \u001b[1m0s\u001b[0m 3ms/step - loss: 702.3294 - mean_absolute_error: 20.3291 - val_loss: 728.4222 - val_mean_absolute_error: 21.2495\n",
      "Epoch 68/100\n",
      "\u001b[1m124/124\u001b[0m \u001b[32m━━━━━━━━━━━━━━━━━━━━\u001b[0m\u001b[37m\u001b[0m \u001b[1m0s\u001b[0m 3ms/step - loss: 702.4979 - mean_absolute_error: 20.6033 - val_loss: 733.4589 - val_mean_absolute_error: 21.0396\n",
      "Epoch 69/100\n",
      "\u001b[1m124/124\u001b[0m \u001b[32m━━━━━━━━━━━━━━━━━━━━\u001b[0m\u001b[37m\u001b[0m \u001b[1m0s\u001b[0m 3ms/step - loss: 695.5599 - mean_absolute_error: 20.1978 - val_loss: 732.6020 - val_mean_absolute_error: 21.2687\n",
      "Epoch 70/100\n",
      "\u001b[1m124/124\u001b[0m \u001b[32m━━━━━━━━━━━━━━━━━━━━\u001b[0m\u001b[37m\u001b[0m \u001b[1m0s\u001b[0m 3ms/step - loss: 708.6556 - mean_absolute_error: 20.5375 - val_loss: 728.5744 - val_mean_absolute_error: 21.3049\n",
      "Epoch 71/100\n",
      "\u001b[1m124/124\u001b[0m \u001b[32m━━━━━━━━━━━━━━━━━━━━\u001b[0m\u001b[37m\u001b[0m \u001b[1m0s\u001b[0m 3ms/step - loss: 714.5075 - mean_absolute_error: 20.7468 - val_loss: 726.6904 - val_mean_absolute_error: 20.9896\n",
      "Epoch 72/100\n",
      "\u001b[1m124/124\u001b[0m \u001b[32m━━━━━━━━━━━━━━━━━━━━\u001b[0m\u001b[37m\u001b[0m \u001b[1m0s\u001b[0m 3ms/step - loss: 658.3680 - mean_absolute_error: 19.6800 - val_loss: 731.6976 - val_mean_absolute_error: 20.9707\n",
      "Epoch 73/100\n",
      "\u001b[1m124/124\u001b[0m \u001b[32m━━━━━━━━━━━━━━━━━━━━\u001b[0m\u001b[37m\u001b[0m \u001b[1m0s\u001b[0m 3ms/step - loss: 714.3322 - mean_absolute_error: 20.5402 - val_loss: 732.3352 - val_mean_absolute_error: 21.2002\n",
      "Epoch 74/100\n",
      "\u001b[1m124/124\u001b[0m \u001b[32m━━━━━━━━━━━━━━━━━━━━\u001b[0m\u001b[37m\u001b[0m \u001b[1m0s\u001b[0m 3ms/step - loss: 747.1231 - mean_absolute_error: 20.9219 - val_loss: 730.8608 - val_mean_absolute_error: 21.2926\n",
      "Epoch 75/100\n",
      "\u001b[1m124/124\u001b[0m \u001b[32m━━━━━━━━━━━━━━━━━━━━\u001b[0m\u001b[37m\u001b[0m \u001b[1m0s\u001b[0m 3ms/step - loss: 686.5219 - mean_absolute_error: 20.3670 - val_loss: 735.0663 - val_mean_absolute_error: 21.1423\n",
      "Epoch 76/100\n",
      "\u001b[1m124/124\u001b[0m \u001b[32m━━━━━━━━━━━━━━━━━━━━\u001b[0m\u001b[37m\u001b[0m \u001b[1m0s\u001b[0m 3ms/step - loss: 700.2767 - mean_absolute_error: 20.4311 - val_loss: 726.9605 - val_mean_absolute_error: 21.1846\n",
      "Epoch 77/100\n",
      "\u001b[1m124/124\u001b[0m \u001b[32m━━━━━━━━━━━━━━━━━━━━\u001b[0m\u001b[37m\u001b[0m \u001b[1m0s\u001b[0m 3ms/step - loss: 674.8171 - mean_absolute_error: 20.1999 - val_loss: 733.1996 - val_mean_absolute_error: 21.2162\n",
      "Epoch 78/100\n",
      "\u001b[1m124/124\u001b[0m \u001b[32m━━━━━━━━━━━━━━━━━━━━\u001b[0m\u001b[37m\u001b[0m \u001b[1m0s\u001b[0m 3ms/step - loss: 676.9739 - mean_absolute_error: 20.1465 - val_loss: 728.8623 - val_mean_absolute_error: 21.0249\n",
      "Epoch 79/100\n",
      "\u001b[1m124/124\u001b[0m \u001b[32m━━━━━━━━━━━━━━━━━━━━\u001b[0m\u001b[37m\u001b[0m \u001b[1m0s\u001b[0m 3ms/step - loss: 670.1707 - mean_absolute_error: 19.9963 - val_loss: 726.7192 - val_mean_absolute_error: 21.0441\n",
      "Epoch 80/100\n",
      "\u001b[1m124/124\u001b[0m \u001b[32m━━━━━━━━━━━━━━━━━━━━\u001b[0m\u001b[37m\u001b[0m \u001b[1m0s\u001b[0m 4ms/step - loss: 653.5612 - mean_absolute_error: 19.8924 - val_loss: 729.7395 - val_mean_absolute_error: 21.0127\n",
      "Epoch 81/100\n",
      "\u001b[1m124/124\u001b[0m \u001b[32m━━━━━━━━━━━━━━━━━━━━\u001b[0m\u001b[37m\u001b[0m \u001b[1m0s\u001b[0m 3ms/step - loss: 664.9148 - mean_absolute_error: 19.8945 - val_loss: 726.9005 - val_mean_absolute_error: 21.0325\n",
      "Epoch 82/100\n",
      "\u001b[1m124/124\u001b[0m \u001b[32m━━━━━━━━━━━━━━━━━━━━\u001b[0m\u001b[37m\u001b[0m \u001b[1m0s\u001b[0m 3ms/step - loss: 643.2540 - mean_absolute_error: 19.4017 - val_loss: 729.5778 - val_mean_absolute_error: 21.3286\n",
      "Epoch 83/100\n",
      "\u001b[1m124/124\u001b[0m \u001b[32m━━━━━━━━━━━━━━━━━━━━\u001b[0m\u001b[37m\u001b[0m \u001b[1m0s\u001b[0m 3ms/step - loss: 702.2197 - mean_absolute_error: 20.5465 - val_loss: 726.7844 - val_mean_absolute_error: 21.1493\n",
      "Epoch 84/100\n",
      "\u001b[1m124/124\u001b[0m \u001b[32m━━━━━━━━━━━━━━━━━━━━\u001b[0m\u001b[37m\u001b[0m \u001b[1m0s\u001b[0m 3ms/step - loss: 687.1615 - mean_absolute_error: 20.2154 - val_loss: 721.6538 - val_mean_absolute_error: 21.1926\n",
      "Epoch 85/100\n",
      "\u001b[1m124/124\u001b[0m \u001b[32m━━━━━━━━━━━━━━━━━━━━\u001b[0m\u001b[37m\u001b[0m \u001b[1m0s\u001b[0m 3ms/step - loss: 699.5873 - mean_absolute_error: 20.3284 - val_loss: 727.3029 - val_mean_absolute_error: 21.2800\n",
      "Epoch 86/100\n",
      "\u001b[1m124/124\u001b[0m \u001b[32m━━━━━━━━━━━━━━━━━━━━\u001b[0m\u001b[37m\u001b[0m \u001b[1m0s\u001b[0m 3ms/step - loss: 720.4864 - mean_absolute_error: 20.6820 - val_loss: 725.8591 - val_mean_absolute_error: 20.8850\n",
      "Epoch 87/100\n",
      "\u001b[1m124/124\u001b[0m \u001b[32m━━━━━━━━━━━━━━━━━━━━\u001b[0m\u001b[37m\u001b[0m \u001b[1m0s\u001b[0m 3ms/step - loss: 688.9026 - mean_absolute_error: 19.9839 - val_loss: 725.6138 - val_mean_absolute_error: 21.1655\n",
      "Epoch 88/100\n",
      "\u001b[1m124/124\u001b[0m \u001b[32m━━━━━━━━━━━━━━━━━━━━\u001b[0m\u001b[37m\u001b[0m \u001b[1m0s\u001b[0m 3ms/step - loss: 677.7161 - mean_absolute_error: 19.9682 - val_loss: 728.7735 - val_mean_absolute_error: 21.1252\n",
      "Epoch 89/100\n",
      "\u001b[1m124/124\u001b[0m \u001b[32m━━━━━━━━━━━━━━━━━━━━\u001b[0m\u001b[37m\u001b[0m \u001b[1m0s\u001b[0m 3ms/step - loss: 683.5142 - mean_absolute_error: 20.1997 - val_loss: 729.9028 - val_mean_absolute_error: 21.3809\n",
      "Epoch 90/100\n",
      "\u001b[1m124/124\u001b[0m \u001b[32m━━━━━━━━━━━━━━━━━━━━\u001b[0m\u001b[37m\u001b[0m \u001b[1m1s\u001b[0m 4ms/step - loss: 701.1611 - mean_absolute_error: 20.4745 - val_loss: 728.2559 - val_mean_absolute_error: 20.8718\n",
      "Epoch 91/100\n",
      "\u001b[1m124/124\u001b[0m \u001b[32m━━━━━━━━━━━━━━━━━━━━\u001b[0m\u001b[37m\u001b[0m \u001b[1m0s\u001b[0m 3ms/step - loss: 690.1266 - mean_absolute_error: 19.9247 - val_loss: 730.9783 - val_mean_absolute_error: 20.9806\n",
      "Epoch 92/100\n",
      "\u001b[1m124/124\u001b[0m \u001b[32m━━━━━━━━━━━━━━━━━━━━\u001b[0m\u001b[37m\u001b[0m \u001b[1m0s\u001b[0m 3ms/step - loss: 662.9449 - mean_absolute_error: 19.8458 - val_loss: 723.3623 - val_mean_absolute_error: 20.8589\n",
      "Epoch 93/100\n",
      "\u001b[1m124/124\u001b[0m \u001b[32m━━━━━━━━━━━━━━━━━━━━\u001b[0m\u001b[37m\u001b[0m \u001b[1m0s\u001b[0m 3ms/step - loss: 672.2204 - mean_absolute_error: 19.7623 - val_loss: 724.1554 - val_mean_absolute_error: 20.9531\n",
      "Epoch 94/100\n",
      "\u001b[1m124/124\u001b[0m \u001b[32m━━━━━━━━━━━━━━━━━━━━\u001b[0m\u001b[37m\u001b[0m \u001b[1m0s\u001b[0m 3ms/step - loss: 658.0938 - mean_absolute_error: 19.7272 - val_loss: 719.9274 - val_mean_absolute_error: 21.0416\n",
      "Epoch 95/100\n",
      "\u001b[1m124/124\u001b[0m \u001b[32m━━━━━━━━━━━━━━━━━━━━\u001b[0m\u001b[37m\u001b[0m \u001b[1m0s\u001b[0m 3ms/step - loss: 657.8604 - mean_absolute_error: 19.7691 - val_loss: 724.9763 - val_mean_absolute_error: 21.0293\n",
      "Epoch 96/100\n",
      "\u001b[1m124/124\u001b[0m \u001b[32m━━━━━━━━━━━━━━━━━━━━\u001b[0m\u001b[37m\u001b[0m \u001b[1m0s\u001b[0m 3ms/step - loss: 685.2792 - mean_absolute_error: 20.0366 - val_loss: 721.8747 - val_mean_absolute_error: 21.3407\n",
      "Epoch 97/100\n",
      "\u001b[1m124/124\u001b[0m \u001b[32m━━━━━━━━━━━━━━━━━━━━\u001b[0m\u001b[37m\u001b[0m \u001b[1m0s\u001b[0m 4ms/step - loss: 644.7697 - mean_absolute_error: 19.6391 - val_loss: 724.5162 - val_mean_absolute_error: 21.1747\n",
      "Epoch 98/100\n",
      "\u001b[1m124/124\u001b[0m \u001b[32m━━━━━━━━━━━━━━━━━━━━\u001b[0m\u001b[37m\u001b[0m \u001b[1m0s\u001b[0m 3ms/step - loss: 659.9316 - mean_absolute_error: 19.7851 - val_loss: 723.9206 - val_mean_absolute_error: 21.1054\n",
      "Epoch 99/100\n",
      "\u001b[1m124/124\u001b[0m \u001b[32m━━━━━━━━━━━━━━━━━━━━\u001b[0m\u001b[37m\u001b[0m \u001b[1m0s\u001b[0m 3ms/step - loss: 687.8787 - mean_absolute_error: 20.0662 - val_loss: 725.7621 - val_mean_absolute_error: 20.9032\n",
      "Epoch 100/100\n",
      "\u001b[1m124/124\u001b[0m \u001b[32m━━━━━━━━━━━━━━━━━━━━\u001b[0m\u001b[37m\u001b[0m \u001b[1m0s\u001b[0m 3ms/step - loss: 655.7476 - mean_absolute_error: 19.7162 - val_loss: 720.9465 - val_mean_absolute_error: 21.2872\n",
      "\u001b[1m31/31\u001b[0m \u001b[32m━━━━━━━━━━━━━━━━━━━━\u001b[0m\u001b[37m\u001b[0m \u001b[1m0s\u001b[0m 2ms/step - loss: 730.7481 - mean_absolute_error: 21.5302  \n"
     ]
    }
   ],
   "source": [
    "import tensorflow as tf\n",
    "from tensorflow.keras.models import Sequential\n",
    "from tensorflow.keras.layers import Dense\n",
    "\n",
    "# Define the neural network model\n",
    "model_nn = Sequential()\n",
    "model_nn.add(Dense(64, input_dim=X_train_scaled.shape[1], activation='relu'))\n",
    "model_nn.add(Dense(32, activation='relu'))\n",
    "model_nn.add(Dense(1))\n",
    "\n",
    "# Compile the model\n",
    "model_nn.compile(optimizer='adam', loss='mean_squared_error', metrics=['mean_absolute_error'])\n",
    "\n",
    "# Train the model\n",
    "model_nn.fit(X_train_scaled, y_train, validation_data=(X_test_scaled, y_test), epochs=100, batch_size=32)\n",
    "\n",
    "# Evaluate the neural network model\n",
    "mae_nn = model_nn.evaluate(X_test_scaled, y_test)[1]\n"
   ]
  },
  {
   "cell_type": "markdown",
   "id": "08391382-37a3-4fd6-837c-971f7d1645b4",
   "metadata": {},
   "source": [
    "## Random Forest (Regression Algorithm)\n",
    "\n",
    "Random Forest is good for predicting customer income because it is robust and can handle complex, non-linear relationships. It provides insights into which features are important, works well with many features, and is flexible with different types of data. It also gives stable and reliable predictions."
   ]
  },
  {
   "cell_type": "code",
   "execution_count": 18,
   "id": "ee097f08-d2c0-40b8-b1c4-1509b3b76b8b",
   "metadata": {},
   "outputs": [],
   "source": [
    "from sklearn.ensemble import RandomForestRegressor\n",
    "from sklearn.metrics import mean_absolute_error\n",
    "\n",
    "# Initialize and train the Random Forest Regressor\n",
    "model_rf = RandomForestRegressor(n_estimators=100, random_state=42)\n",
    "model_rf.fit(X_train, y_train)\n",
    "\n",
    "# Predict and evaluate the model\n",
    "y_pred_rf = model_rf.predict(X_test)\n",
    "mae_rf = mean_absolute_error(y_test, y_pred_rf)\n"
   ]
  },
  {
   "cell_type": "markdown",
   "id": "2047cc8a-6c7d-457a-b192-d54f1f20157b",
   "metadata": {},
   "source": [
    "### Results\n",
    "\n",
    "Random Forest model performs better than the Neural Network in predicting customer income. \n",
    "The Mean Absolute Error (MAE) for the Random Forest model is 13.94, which is lower than the MAE of 21.08 for the Neural Network. \n",
    "This indicates that the Random Forest model makes more accurate predictions, with a fewer errors if compared to the Neural Network."
   ]
  },
  {
   "cell_type": "code",
   "execution_count": 19,
   "id": "2b9ac2f4-1101-4008-ab56-1cc6e9bf274b",
   "metadata": {},
   "outputs": [
    {
     "name": "stdout",
     "output_type": "stream",
     "text": [
      "Mean Absolute Error (Neural Network): 21.287189483642578\n",
      "Mean Absolute Error (Random Forest): 13.826337325637326\n"
     ]
    }
   ],
   "source": [
    "#Display results\n",
    "print(f'Mean Absolute Error (Neural Network): {mae_nn}')\n",
    "print(f'Mean Absolute Error (Random Forest): {mae_rf}')\n"
   ]
  },
  {
   "cell_type": "markdown",
   "id": "9ced832e-c4a6-41ac-8374-7d101b09f9a5",
   "metadata": {},
   "source": [
    "# Model Optimizations"
   ]
  },
  {
   "cell_type": "markdown",
   "id": "3444f4b0-69cd-4ea3-9816-fa888461a5d1",
   "metadata": {},
   "source": [
    "## Neural Networks"
   ]
  },
  {
   "cell_type": "code",
   "execution_count": 20,
   "id": "47e6fd37-e5c6-4854-8088-fac90957ae8a",
   "metadata": {},
   "outputs": [],
   "source": [
    "from scikeras.wrappers import KerasRegressor\n",
    "from sklearn.model_selection import GridSearchCV, RandomizedSearchCV\n",
    "from tensorflow.keras.layers import Dropout\n",
    "from tensorflow.keras.optimizers import Adam, SGD, RMSprop"
   ]
  },
  {
   "cell_type": "code",
   "execution_count": 21,
   "id": "3e2e4488-cb86-44ba-a1f0-c9f62fdf51b8",
   "metadata": {},
   "outputs": [],
   "source": [
    "# Define a function to create the neural network model\n",
    "def create_model(neurons=32, activation='relu', optimizer='adam',dropout_rate=0.0):\n",
    "    model = Sequential()\n",
    "    model.add(Dense(neurons, input_dim=X_train_scaled.shape[1], activation=activation))\n",
    "    model.add(Dropout(dropout_rate))  # Add dropout to prevent overfitting\n",
    "    model.add(Dense(neurons, activation=activation))\n",
    "    model.add(Dropout(dropout_rate))  # Add dropout to prevent overfitting\n",
    "    model.add(Dense(1))\n",
    "    model.compile(optimizer=optimizer, loss='mean_squared_error', metrics=['mean_absolute_error'])\n",
    "    return model\n",
    "\n",
    "# Wrap the model using KerasRegressor\n",
    "model_nn2 = KerasRegressor(model=create_model, verbose=0)\n",
    "\n",
    "# Define the parameter grid\n",
    "param_grid_nn = {\n",
    "    'batch_size': [16, 32],\n",
    "    'epochs': [50, 100],\n",
    "    'model__optimizer': ['adam'],\n",
    "    'model__activation': ['relu'],\n",
    "    'model__neurons': [32, 64]\n",
    "}\n"
   ]
  },
  {
   "cell_type": "code",
   "execution_count": null,
   "id": "1912c2e1-022e-4c59-a9de-56d42fb85f1c",
   "metadata": {},
   "outputs": [],
   "source": [
    "# Perform Randomized Search for hyperparameter tuning\n",
    "random_search_nn = RandomizedSearchCV(estimator=model_nn2, param_distributions=param_grid_nn, n_iter=20, scoring='neg_mean_absolute_error', n_jobs=-1, cv=3, random_state=42)\n",
    "random_result_nn = random_search_nn.fit(X_train_scaled, y_train)\n",
    "\n",
    "# Display the best parameters from Randomized Search\n",
    "print(f\"Best NN: {random_result_nn.best_score_} using {random_result_nn.best_params_}\")\n"
   ]
  },
  {
   "cell_type": "code",
   "execution_count": null,
   "id": "12196b14-7dc3-41c9-9f77-bb5068beb72d",
   "metadata": {},
   "outputs": [],
   "source": [
    "# Train the best model\n",
    "best_nn = random_result_nn.best_estimator_\n",
    "best_nn.fit(X_train_scaled, y_train, epochs=random_result_nn.best_params_['epochs'], batch_size=random_result_nn.best_params_['batch_size'], validation_data=(X_test_scaled, y_test))\n",
    "\n",
    "# Evaluate the neural network model\n",
    "mae_nn = best_nn.score(X_test_scaled, y_test)\n",
    "print(f'Mean Absolute Error (Neural Network): {mae_nn}')"
   ]
  },
  {
   "cell_type": "code",
   "execution_count": null,
   "id": "b4a31d61-c363-49fb-9616-7fddf7c6e907",
   "metadata": {},
   "outputs": [],
   "source": []
  },
  {
   "cell_type": "code",
   "execution_count": null,
   "id": "50c6fbdb-93fc-42a4-8b26-0677ce87549d",
   "metadata": {},
   "outputs": [],
   "source": []
  },
  {
   "cell_type": "code",
   "execution_count": null,
   "id": "931eaf94-348d-46ef-b871-8cb1e66fc16c",
   "metadata": {},
   "outputs": [],
   "source": [
    "# Perform Grid Search for tuning\n",
    "grid_search_nn = GridSearchCV(estimator=model_nn2, param_grid=param_grid_nn, scoring='neg_mean_absolute_error', n_jobs=-1, cv=3)\n",
    "grid_result_nn = grid_search_nn.fit(X_train_scaled, y_train)\n",
    "\n",
    "# Display the best parameters from grid search\n",
    "print(f\"Best NN: {grid_result_nn.best_score_} using {grid_result_nn.best_params_}\")\n"
   ]
  },
  {
   "cell_type": "markdown",
   "id": "77e7654d-2135-4e15-90aa-cb764aee52e8",
   "metadata": {},
   "source": [
    "## Random Forest"
   ]
  },
  {
   "cell_type": "code",
   "execution_count": null,
   "id": "c4ae663c-b6c8-4a6e-be18-56d8b2c18ac0",
   "metadata": {},
   "outputs": [],
   "source": [
    "# Define the parameter grid for random forest model\n",
    "param_grid_rf = {\n",
    "    'n_estimators': [50, 100, 200],\n",
    "    'max_features': ['auto', 'sqrt', 'log2'],\n",
    "    'max_depth': [None, 10, 20, 30],\n",
    "    'min_samples_split': [2, 5, 10],\n",
    "    'min_samples_leaf': [1, 2, 4]\n",
    "}"
   ]
  },
  {
   "cell_type": "code",
   "execution_count": null,
   "id": "3e079b73-ec04-4b10-bfb0-f4c858340302",
   "metadata": {},
   "outputs": [],
   "source": [
    "# Perform Randomized Search for random forest model\n",
    "random_search_rf = RandomizedSearchCV(estimator=model_rf, param_distributions=param_grid_rf, n_iter=20, scoring='neg_mean_absolute_error', n_jobs=-1, cv=3, random_state=42)\n",
    "random_result_rf = random_search_rf.fit(X_train, y_train)\n",
    "\n",
    "# Display the best parameters from randomized search for random forest model\n",
    "print(f\"Best RF: {random_result_rf.best_score_} using {random_result_rf.best_params_}\")"
   ]
  },
  {
   "cell_type": "code",
   "execution_count": null,
   "id": "67bd8d49-fc9d-4cd1-b9ca-ed624ea6e761",
   "metadata": {},
   "outputs": [],
   "source": []
  },
  {
   "cell_type": "code",
   "execution_count": null,
   "id": "5794bb28-269f-4667-97f7-06166e3e7bfa",
   "metadata": {},
   "outputs": [],
   "source": []
  },
  {
   "cell_type": "markdown",
   "id": "ae4a8d3b-3138-4541-af33-dcbcd17cc3c3",
   "metadata": {},
   "source": [
    "## New customers predictions"
   ]
  },
  {
   "cell_type": "code",
   "execution_count": null,
   "id": "a07e626f-3f6b-4382-82ba-a022d78c6a51",
   "metadata": {},
   "outputs": [],
   "source": [
    "import random\n",
    "\n",
    "# Function to generate random customer data\n",
    "def generate_customer():\n",
    "    return {\n",
    "        'Age': random.randint(18, 80),\n",
    "        'Experience_years': random.randint(1, 50),\n",
    "        'Family': random.randint(1, 5),\n",
    "        'Credit Score': round(random.uniform(0.5, 4.0), 2),\n",
    "        'Education': random.choice(['Diploma', 'Degree', 'Masters']),\n",
    "        'Mortgage_thousands': 0 if random.random() < 0.4 else random.randint(1, 500),\n",
    "        'Personal Loan': random.choice(['Yes', 'No']),\n",
    "        'Securities Account': random.choice(['Yes', 'No']),\n",
    "        'CD Account': random.choice(['Yes', 'No']),\n",
    "        'Online Banking': random.choice(['Yes', 'No']),\n",
    "        'CreditCard': random.choice(['Yes', 'No'])\n",
    "    }"
   ]
  },
  {
   "cell_type": "code",
   "execution_count": null,
   "id": "5c1886d2-4f6f-4d85-8575-ab231c7d0688",
   "metadata": {},
   "outputs": [],
   "source": [
    "# Generate 10 random new customers\n",
    "new_customers = [generate_customer() for _ in range(10)]\n",
    "\n",
    "# Convert new customers to DataFrame\n",
    "new_customers_df = pd.DataFrame(new_customers)\n",
    "\n",
    "# Encode categorical variables\n",
    "categorical_columns = ['Education', 'Personal Loan', 'Securities Account', 'CD Account', 'Online Banking', 'CreditCard']\n",
    "new_customers_encoded = pd.get_dummies(new_customers_df, columns=categorical_columns, drop_first=True)\n",
    "\n",
    "# Ensure all columns are present\n",
    "new_customers_encoded = new_customers_encoded.reindex(columns=X.columns, fill_value=0)\n",
    "\n",
    "# Scale features\n",
    "new_customers_scaled = scaler.transform(new_customers_encoded)\n",
    "\n",
    "# Make predictions using the improved neural network model\n",
    "predicted_incomes = best_nn.predict(new_customers_scaled)\n",
    "\n",
    "# Add predicted incomes to the new customers DataFrame\n",
    "new_customers_df['Predicted Income'] = predicted_incomes\n",
    "\n",
    "# Display the new customers with their predicted incomes\n",
    "new_customers_df\n"
   ]
  },
  {
   "cell_type": "code",
   "execution_count": null,
   "id": "341a205c-9dd4-49e4-8553-5341fe1cf327",
   "metadata": {},
   "outputs": [],
   "source": []
  },
  {
   "cell_type": "code",
   "execution_count": null,
   "id": "c3f59cbb-e577-47a9-b803-f2f1cbb9f097",
   "metadata": {},
   "outputs": [],
   "source": []
  },
  {
   "cell_type": "markdown",
   "id": "321c4b47-8fff-4f64-8e5c-8a3ed5bd5549",
   "metadata": {},
   "source": [
    "# Sentiment Analysis - Game of thrones Tweets"
   ]
  },
  {
   "cell_type": "code",
   "execution_count": null,
   "id": "909fa4dd-ab5e-4c47-9368-979c3927d683",
   "metadata": {},
   "outputs": [],
   "source": [
    "import re\n",
    "from transformers import pipeline\n",
    "from tqdm import tqdm\n",
    "import matplotlib.pyplot as plt\n",
    "import seaborn as sns"
   ]
  },
  {
   "cell_type": "code",
   "execution_count": null,
   "id": "3620dcd1-9ed8-499b-9a81-e3519b87e8da",
   "metadata": {},
   "outputs": [],
   "source": [
    "# Load full dataset with selected columns\n",
    "df_full = pd.read_csv('gotTwitter.csv', usecols=['text', 'created_at', 'screen_name'])\n"
   ]
  },
  {
   "cell_type": "code",
   "execution_count": null,
   "id": "6b367e27-a8d6-4641-9361-0865ef08b97b",
   "metadata": {},
   "outputs": [],
   "source": [
    "# Select a random subset of 2000 rows\n",
    "df_got = df_full.sample(n=1000, random_state=35).reset_index(drop=True)\n",
    "\n",
    "# Display the first few rows of the random subset\n",
    "df_got.head()\n"
   ]
  },
  {
   "cell_type": "code",
   "execution_count": null,
   "id": "d5a8bf39-3303-4bc2-8e1a-1ad5b4b5ba04",
   "metadata": {},
   "outputs": [],
   "source": [
    "# Function to clean the tweet text\n",
    "def clean_text(text):\n",
    "    text = re.sub(r'http\\S+', '', text)  # Remove URLs\n",
    "    text = re.sub(r'@\\w+', '', text)  # Remove mentions\n",
    "    text = re.sub(r'#\\w+', '', text)  # Remove hashtags\n",
    "    text = re.sub(r'\\d+', '', text)  # Remove numbers\n",
    "    text = re.sub(r'[^\\w\\s]', '', text)  # Remove punctuation\n",
    "    text = text.lower()  # Convert to lowercase\n",
    "    return text\n",
    "\n",
    "# Apply the cleaning function to the tweet text\n",
    "df_got['cleaned_text'] = df_got['text'].apply(clean_text)"
   ]
  },
  {
   "cell_type": "code",
   "execution_count": null,
   "id": "b067cec9-bd5b-4d4f-9dfa-c8160c8f9731",
   "metadata": {},
   "outputs": [],
   "source": [
    "# Load the sentiment analysis pipeline with a specified model\n",
    "sentiment_pipeline = pipeline('sentiment-analysis', model='nlptown/bert-base-multilingual-uncased-sentiment')\n"
   ]
  },
  {
   "cell_type": "code",
   "execution_count": null,
   "id": "d245d154-dba5-4e6e-8af3-30640ce3174c",
   "metadata": {},
   "outputs": [],
   "source": [
    "# Function to map model output to positive, neutral, and negative sentiments\n",
    "def map_sentiment(label):\n",
    "    score = int(label.split()[0])  # Extract the score from the label (e.g., '3 stars')\n",
    "    if score == 1 or score == 2:\n",
    "        return 'negative'\n",
    "    elif score == 3:\n",
    "        return 'neutral'\n",
    "    else:\n",
    "        return 'positive'\n",
    "\n",
    "# Apply the sentiment analysis pipeline to the cleaned text with progress bar\n",
    "tqdm.pandas()\n",
    "df_got['sentiment'] = df_got['cleaned_text'].progress_apply(lambda x: map_sentiment(sentiment_pipeline(x)[0]['label']))\n"
   ]
  },
  {
   "cell_type": "code",
   "execution_count": null,
   "id": "c72ab64e-e798-425d-ae4a-5c468428b18b",
   "metadata": {},
   "outputs": [],
   "source": [
    "# Display the first few sentiment results\n",
    "df_got[['cleaned_text', 'sentiment']].head()"
   ]
  },
  {
   "cell_type": "markdown",
   "id": "fd07a873-15ee-4312-bc3b-786f1e14f85f",
   "metadata": {},
   "source": [
    "## Barchart of amount ot tweets per sentiment"
   ]
  },
  {
   "cell_type": "code",
   "execution_count": null,
   "id": "e0a222e2-c562-42bb-9df2-1eda2537fdca",
   "metadata": {},
   "outputs": [],
   "source": [
    "# Count the number of each sentiment\n",
    "sentiment_counts = df_got['sentiment'].value_counts()\n",
    "\n",
    "# Plot the sentiment distribution\n",
    "plt.figure(figsize=(8, 6))\n",
    "sns.barplot(x=sentiment_counts.index, y=sentiment_counts.values, palette=['#ff9999','#66b3ff','#99ff99'])\n",
    "plt.title('Sentiment Distribution of Game of Thrones Tweets')\n",
    "plt.xlabel('Sentiment')\n",
    "plt.ylabel('Count')\n",
    "plt.show()\n"
   ]
  },
  {
   "cell_type": "markdown",
   "id": "8244098b-2411-49ff-b6b4-64cc61393b78",
   "metadata": {},
   "source": [
    "## Piechart of sentiment distribution"
   ]
  },
  {
   "cell_type": "code",
   "execution_count": null,
   "id": "da2a3b50-50eb-4651-b233-bb5d3bb4f1b0",
   "metadata": {},
   "outputs": [],
   "source": [
    "# Count the number of each sentiment\n",
    "sentiment_counts = df_got['sentiment'].value_counts()\n",
    "\n",
    "# Plot the pie chart\n",
    "plt.figure(figsize=(8, 8))\n",
    "plt.pie(sentiment_counts, labels=sentiment_counts.index, autopct='%1.1f%%', startangle=140, colors=['#ff9999','#66b3ff','#99ff99'])\n",
    "plt.title('Sentiment Distribution of Game of Thrones Tweets')\n",
    "# plt.axis('equal')  # Equal aspect ratio ensures the pie is drawn as a circle.\n",
    "plt.show()\n"
   ]
  },
  {
   "cell_type": "code",
   "execution_count": null,
   "id": "1a07a3db-8d3f-4481-9674-cd6e44ad82a9",
   "metadata": {},
   "outputs": [],
   "source": []
  },
  {
   "cell_type": "markdown",
   "id": "44208165-c233-4ff5-bd9a-ca10f3171369",
   "metadata": {},
   "source": [
    "## Wordcloud"
   ]
  },
  {
   "cell_type": "code",
   "execution_count": null,
   "id": "d0b572e0-0e76-4da3-ac77-d9537e89934c",
   "metadata": {},
   "outputs": [],
   "source": [
    "# !pip install wordcloud"
   ]
  },
  {
   "cell_type": "code",
   "execution_count": null,
   "id": "a0fa862c-cc97-4d37-b776-b57c2958df23",
   "metadata": {},
   "outputs": [],
   "source": [
    "from wordcloud import WordCloud\n",
    "\n",
    "# Function to generate word cloud\n",
    "def generate_wordcloud(text, title):\n",
    "    wordcloud = WordCloud(width=800, height=400, background_color='white').generate(text)\n",
    "    plt.figure(figsize=(10, 5))\n",
    "    plt.imshow(wordcloud, interpolation='bilinear')\n",
    "    plt.title(title, fontsize=20)\n",
    "    plt.axis('off')\n",
    "    plt.show()\n",
    "\n",
    "# Generate word clouds for different sentiments\n",
    "positive_text = ' '.join(df_got[df_got['sentiment'] == 'positive']['cleaned_text'])\n",
    "neutral_text = ' '.join(df_got[df_got['sentiment'] == 'neutral']['cleaned_text'])\n",
    "negative_text = ' '.join(df_got[df_got['sentiment'] == 'negative']['cleaned_text'])\n",
    "\n",
    "generate_wordcloud(positive_text, 'Positive Sentiment Words')\n",
    "generate_wordcloud(neutral_text, 'Neutral Sentiment Words')\n",
    "generate_wordcloud(negative_text, 'Negative Sentiment Words')\n"
   ]
  },
  {
   "cell_type": "code",
   "execution_count": null,
   "id": "a3384e2a-a6b1-4d65-a792-4a8deb57a2dd",
   "metadata": {},
   "outputs": [],
   "source": []
  },
  {
   "cell_type": "markdown",
   "id": "25781d62-a140-4d40-852a-4c0562f5ef6a",
   "metadata": {},
   "source": [
    "## Sentiment over time"
   ]
  },
  {
   "cell_type": "code",
   "execution_count": null,
   "id": "93541d96-96dc-4835-8c8e-7069833e1e49",
   "metadata": {},
   "outputs": [],
   "source": [
    "# Convert 'created_at' to datetime\n",
    "df_got['created_at'] = pd.to_datetime(df_got['created_at'])\n",
    "\n",
    "# Resample to get weekly sentiment counts\n",
    "weekly_sentiment = df_got.set_index('created_at').resample('W')['sentiment'].value_counts().unstack().fillna(0)\n",
    "\n",
    "# Plot the sentiment over time\n",
    "weekly_sentiment.plot(kind='line', marker='o', figsize=(8, 4),color=['#ff9999','#66b3ff','#99ff99'])\n",
    "plt.title('Sentiment Over Time')\n",
    "plt.xlabel('Week')\n",
    "plt.ylabel('Count')\n",
    "plt.legend(title='Sentiment',bbox_to_anchor=(1.05, 1), loc='upper left')\n",
    "plt.show()\n"
   ]
  },
  {
   "cell_type": "code",
   "execution_count": null,
   "id": "15c8495d-097e-488d-a339-c466fba59c6e",
   "metadata": {},
   "outputs": [],
   "source": []
  }
 ],
 "metadata": {
  "kernelspec": {
   "display_name": "Python 3 (ipykernel)",
   "language": "python",
   "name": "python3"
  },
  "language_info": {
   "codemirror_mode": {
    "name": "ipython",
    "version": 3
   },
   "file_extension": ".py",
   "mimetype": "text/x-python",
   "name": "python",
   "nbconvert_exporter": "python",
   "pygments_lexer": "ipython3",
   "version": "3.9.19"
  }
 },
 "nbformat": 4,
 "nbformat_minor": 5
}
