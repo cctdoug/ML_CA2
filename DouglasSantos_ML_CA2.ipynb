{
 "cells": [
  {
   "cell_type": "markdown",
   "id": "941621c4-0c64-4c8e-a6c3-d56bec2b349c",
   "metadata": {},
   "source": [
    "# Neural Networks"
   ]
  },
  {
   "cell_type": "code",
   "execution_count": 1,
   "id": "08ab0c39-57d3-4c82-a4ee-d8ff996b0ab1",
   "metadata": {},
   "outputs": [],
   "source": [
    "import warnings\n",
    "# Suppress all warnings\n",
    "warnings.filterwarnings('ignore')"
   ]
  },
  {
   "cell_type": "code",
   "execution_count": 2,
   "id": "8047890a-548a-47c6-b849-bd241c399a23",
   "metadata": {},
   "outputs": [],
   "source": [
    "import pandas as pd"
   ]
  },
  {
   "cell_type": "code",
   "execution_count": 3,
   "id": "b305d0b1-ff92-4fa5-836b-3ee3616c3fd4",
   "metadata": {},
   "outputs": [],
   "source": [
    "# Load the data\n",
    "df = pd.read_csv('BankRecords.csv')\n",
    "# df.head()\n"
   ]
  },
  {
   "cell_type": "markdown",
   "id": "13ff47dc-96ec-4a27-baf2-69731af4ab70",
   "metadata": {},
   "source": [
    "## Data Preparation"
   ]
  },
  {
   "cell_type": "code",
   "execution_count": 5,
   "id": "3bb71755-ba59-4d4e-bd6b-05574a4bdda8",
   "metadata": {},
   "outputs": [],
   "source": [
    "# Renaming some of the columns to remove especial characters\n",
    "df = df.rename(columns={\n",
    "    'Experience(Years)': 'Experience_years',\n",
    "    'Income(Thousands\\'s)': 'Income_thousands',\n",
    "    'Mortgage(Thousands\\'s)' : 'Mortgage_thousands'\n",
    "})"
   ]
  },
  {
   "cell_type": "code",
   "execution_count": 6,
   "id": "58d2c500-6894-48ec-b965-07c92192a59d",
   "metadata": {},
   "outputs": [],
   "source": [
    "# Remove null values\n",
    "df.dropna(inplace=True)"
   ]
  },
  {
   "cell_type": "markdown",
   "id": "cfe093b7-d84b-48e7-8b8a-b91ed8c3f1a3",
   "metadata": {},
   "source": [
    "## Checking df's characteristics"
   ]
  },
  {
   "cell_type": "code",
   "execution_count": 7,
   "id": "f8773789-a7c3-4dca-8f50-e75b2ed1d295",
   "metadata": {},
   "outputs": [
    {
     "data": {
      "text/plain": [
       "(5000, 14)"
      ]
     },
     "execution_count": 7,
     "metadata": {},
     "output_type": "execute_result"
    }
   ],
   "source": [
    "# Checking dimensions\n",
    "df.shape"
   ]
  },
  {
   "cell_type": "code",
   "execution_count": 8,
   "id": "db381075-62a6-4b17-b3e6-a2a4792f3f31",
   "metadata": {},
   "outputs": [
    {
     "name": "stdout",
     "output_type": "stream",
     "text": [
      "<class 'pandas.core.frame.DataFrame'>\n",
      "RangeIndex: 5000 entries, 0 to 4999\n",
      "Data columns (total 14 columns):\n",
      " #   Column              Non-Null Count  Dtype  \n",
      "---  ------              --------------  -----  \n",
      " 0   ID                  5000 non-null   int64  \n",
      " 1   Age                 5000 non-null   int64  \n",
      " 2   Experience_years    5000 non-null   int64  \n",
      " 3   Income_thousands    5000 non-null   int64  \n",
      " 4   Sort Code           5000 non-null   int64  \n",
      " 5   Family              5000 non-null   int64  \n",
      " 6   Credit Score        5000 non-null   float64\n",
      " 7   Education           5000 non-null   object \n",
      " 8   Mortgage_thousands  5000 non-null   int64  \n",
      " 9   Personal Loan       5000 non-null   object \n",
      " 10  Securities Account  5000 non-null   object \n",
      " 11  CD Account          5000 non-null   object \n",
      " 12  Online Banking      5000 non-null   object \n",
      " 13  CreditCard          5000 non-null   object \n",
      "dtypes: float64(1), int64(7), object(6)\n",
      "memory usage: 547.0+ KB\n"
     ]
    }
   ],
   "source": [
    "df.info()"
   ]
  },
  {
   "cell_type": "code",
   "execution_count": 9,
   "id": "58d5b83d-d40c-4cbf-bab9-9085a1f03c1c",
   "metadata": {},
   "outputs": [
    {
     "data": {
      "text/html": [
       "<div>\n",
       "<style scoped>\n",
       "    .dataframe tbody tr th:only-of-type {\n",
       "        vertical-align: middle;\n",
       "    }\n",
       "\n",
       "    .dataframe tbody tr th {\n",
       "        vertical-align: top;\n",
       "    }\n",
       "\n",
       "    .dataframe thead th {\n",
       "        text-align: right;\n",
       "    }\n",
       "</style>\n",
       "<table border=\"1\" class=\"dataframe\">\n",
       "  <thead>\n",
       "    <tr style=\"text-align: right;\">\n",
       "      <th></th>\n",
       "      <th>ID</th>\n",
       "      <th>Age</th>\n",
       "      <th>Experience_years</th>\n",
       "      <th>Income_thousands</th>\n",
       "      <th>Sort Code</th>\n",
       "      <th>Family</th>\n",
       "      <th>Credit Score</th>\n",
       "      <th>Mortgage_thousands</th>\n",
       "    </tr>\n",
       "  </thead>\n",
       "  <tbody>\n",
       "    <tr>\n",
       "      <th>count</th>\n",
       "      <td>5000.000000</td>\n",
       "      <td>5000.000000</td>\n",
       "      <td>5000.000000</td>\n",
       "      <td>5000.000000</td>\n",
       "      <td>5000.000000</td>\n",
       "      <td>5000.000000</td>\n",
       "      <td>5000.000000</td>\n",
       "      <td>5000.000000</td>\n",
       "    </tr>\n",
       "    <tr>\n",
       "      <th>mean</th>\n",
       "      <td>2500.500000</td>\n",
       "      <td>45.338400</td>\n",
       "      <td>20.104600</td>\n",
       "      <td>73.774200</td>\n",
       "      <td>93152.503000</td>\n",
       "      <td>2.396400</td>\n",
       "      <td>1.937913</td>\n",
       "      <td>56.498800</td>\n",
       "    </tr>\n",
       "    <tr>\n",
       "      <th>std</th>\n",
       "      <td>1443.520003</td>\n",
       "      <td>11.463166</td>\n",
       "      <td>11.467954</td>\n",
       "      <td>46.033729</td>\n",
       "      <td>2121.852197</td>\n",
       "      <td>1.147663</td>\n",
       "      <td>1.747666</td>\n",
       "      <td>101.713802</td>\n",
       "    </tr>\n",
       "    <tr>\n",
       "      <th>min</th>\n",
       "      <td>1.000000</td>\n",
       "      <td>23.000000</td>\n",
       "      <td>-3.000000</td>\n",
       "      <td>8.000000</td>\n",
       "      <td>9307.000000</td>\n",
       "      <td>1.000000</td>\n",
       "      <td>0.000000</td>\n",
       "      <td>0.000000</td>\n",
       "    </tr>\n",
       "    <tr>\n",
       "      <th>25%</th>\n",
       "      <td>1250.750000</td>\n",
       "      <td>35.000000</td>\n",
       "      <td>10.000000</td>\n",
       "      <td>39.000000</td>\n",
       "      <td>91911.000000</td>\n",
       "      <td>1.000000</td>\n",
       "      <td>0.700000</td>\n",
       "      <td>0.000000</td>\n",
       "    </tr>\n",
       "    <tr>\n",
       "      <th>50%</th>\n",
       "      <td>2500.500000</td>\n",
       "      <td>45.000000</td>\n",
       "      <td>20.000000</td>\n",
       "      <td>64.000000</td>\n",
       "      <td>93437.000000</td>\n",
       "      <td>2.000000</td>\n",
       "      <td>1.500000</td>\n",
       "      <td>0.000000</td>\n",
       "    </tr>\n",
       "    <tr>\n",
       "      <th>75%</th>\n",
       "      <td>3750.250000</td>\n",
       "      <td>55.000000</td>\n",
       "      <td>30.000000</td>\n",
       "      <td>98.000000</td>\n",
       "      <td>94608.000000</td>\n",
       "      <td>3.000000</td>\n",
       "      <td>2.500000</td>\n",
       "      <td>101.000000</td>\n",
       "    </tr>\n",
       "    <tr>\n",
       "      <th>max</th>\n",
       "      <td>5000.000000</td>\n",
       "      <td>67.000000</td>\n",
       "      <td>43.000000</td>\n",
       "      <td>224.000000</td>\n",
       "      <td>96651.000000</td>\n",
       "      <td>4.000000</td>\n",
       "      <td>10.000000</td>\n",
       "      <td>635.000000</td>\n",
       "    </tr>\n",
       "  </tbody>\n",
       "</table>\n",
       "</div>"
      ],
      "text/plain": [
       "                ID          Age  Experience_years  Income_thousands  \\\n",
       "count  5000.000000  5000.000000       5000.000000       5000.000000   \n",
       "mean   2500.500000    45.338400         20.104600         73.774200   \n",
       "std    1443.520003    11.463166         11.467954         46.033729   \n",
       "min       1.000000    23.000000         -3.000000          8.000000   \n",
       "25%    1250.750000    35.000000         10.000000         39.000000   \n",
       "50%    2500.500000    45.000000         20.000000         64.000000   \n",
       "75%    3750.250000    55.000000         30.000000         98.000000   \n",
       "max    5000.000000    67.000000         43.000000        224.000000   \n",
       "\n",
       "          Sort Code       Family  Credit Score  Mortgage_thousands  \n",
       "count   5000.000000  5000.000000   5000.000000         5000.000000  \n",
       "mean   93152.503000     2.396400      1.937913           56.498800  \n",
       "std     2121.852197     1.147663      1.747666          101.713802  \n",
       "min     9307.000000     1.000000      0.000000            0.000000  \n",
       "25%    91911.000000     1.000000      0.700000            0.000000  \n",
       "50%    93437.000000     2.000000      1.500000            0.000000  \n",
       "75%    94608.000000     3.000000      2.500000          101.000000  \n",
       "max    96651.000000     4.000000     10.000000          635.000000  "
      ]
     },
     "execution_count": 9,
     "metadata": {},
     "output_type": "execute_result"
    }
   ],
   "source": [
    "df.describe()"
   ]
  },
  {
   "cell_type": "markdown",
   "id": "cd8127eb-2b6b-49d7-a2a7-eae73b0c04f7",
   "metadata": {},
   "source": [
    "## Encoding categorical variables"
   ]
  },
  {
   "cell_type": "code",
   "execution_count": 10,
   "id": "ee96aa3b-b99a-44dd-b112-e6bdb915dec8",
   "metadata": {},
   "outputs": [],
   "source": [
    "categorical_columns = ['Education', 'Personal Loan', 'Securities Account', 'CD Account', 'Online Banking', 'CreditCard']\n",
    "df_encoded = pd.get_dummies(df, columns=categorical_columns, drop_first=True)"
   ]
  },
  {
   "cell_type": "code",
   "execution_count": 11,
   "id": "b2d7f7c3-8652-4547-b42f-dea281cd17d2",
   "metadata": {},
   "outputs": [],
   "source": [
    "from sklearn.model_selection import train_test_split\n",
    "\n",
    "# Define the feature matrix X and the target vector y\n",
    "X = df_encoded.drop('Income_thousands', axis=1)\n",
    "y = df_encoded['Income_thousands']\n",
    "\n",
    "# Split the data\n",
    "X_train, X_test, y_train, y_test = train_test_split(X, y, test_size=0.2, random_state=123)\n"
   ]
  },
  {
   "cell_type": "code",
   "execution_count": 12,
   "id": "b74cbfd5-444e-4385-a8d8-5add955af41b",
   "metadata": {},
   "outputs": [],
   "source": [
    "from sklearn.preprocessing import StandardScaler\n",
    "\n",
    "# Initialize the scaler\n",
    "scaler = StandardScaler()\n",
    "\n",
    "# Fit and transform the training data\n",
    "X_train_scaled = scaler.fit_transform(X_train)\n",
    "\n",
    "# Transform the testing data\n",
    "X_test_scaled = scaler.transform(X_test)\n"
   ]
  },
  {
   "cell_type": "markdown",
   "id": "a5e0564b-36d3-411b-a20b-4db771abd781",
   "metadata": {},
   "source": [
    "## NN Model"
   ]
  },
  {
   "cell_type": "code",
   "execution_count": 13,
   "id": "173ac84f-81af-4477-b74d-3353b5d35e86",
   "metadata": {
    "scrolled": true
   },
   "outputs": [
    {
     "name": "stdout",
     "output_type": "stream",
     "text": [
      "Epoch 1/100\n",
      "\u001b[1m125/125\u001b[0m \u001b[32m━━━━━━━━━━━━━━━━━━━━\u001b[0m\u001b[37m\u001b[0m \u001b[1m2s\u001b[0m 4ms/step - loss: 6983.4082 - mean_absolute_error: 70.4851 - val_loss: 3721.8237 - val_mean_absolute_error: 47.9908\n",
      "Epoch 2/100\n",
      "\u001b[1m125/125\u001b[0m \u001b[32m━━━━━━━━━━━━━━━━━━━━\u001b[0m\u001b[37m\u001b[0m \u001b[1m0s\u001b[0m 3ms/step - loss: 2411.6873 - mean_absolute_error: 37.3730 - val_loss: 951.3931 - val_mean_absolute_error: 24.7724\n",
      "Epoch 3/100\n",
      "\u001b[1m125/125\u001b[0m \u001b[32m━━━━━━━━━━━━━━━━━━━━\u001b[0m\u001b[37m\u001b[0m \u001b[1m0s\u001b[0m 3ms/step - loss: 1023.3388 - mean_absolute_error: 24.8313 - val_loss: 909.7786 - val_mean_absolute_error: 24.2192\n",
      "Epoch 4/100\n",
      "\u001b[1m125/125\u001b[0m \u001b[32m━━━━━━━━━━━━━━━━━━━━\u001b[0m\u001b[37m\u001b[0m \u001b[1m0s\u001b[0m 3ms/step - loss: 951.1308 - mean_absolute_error: 24.3601 - val_loss: 893.5128 - val_mean_absolute_error: 23.9577\n",
      "Epoch 5/100\n",
      "\u001b[1m125/125\u001b[0m \u001b[32m━━━━━━━━━━━━━━━━━━━━\u001b[0m\u001b[37m\u001b[0m \u001b[1m0s\u001b[0m 3ms/step - loss: 934.5800 - mean_absolute_error: 24.2027 - val_loss: 879.4808 - val_mean_absolute_error: 23.7065\n",
      "Epoch 6/100\n",
      "\u001b[1m125/125\u001b[0m \u001b[32m━━━━━━━━━━━━━━━━━━━━\u001b[0m\u001b[37m\u001b[0m \u001b[1m0s\u001b[0m 3ms/step - loss: 894.6521 - mean_absolute_error: 23.6036 - val_loss: 872.5609 - val_mean_absolute_error: 23.7619\n",
      "Epoch 7/100\n",
      "\u001b[1m125/125\u001b[0m \u001b[32m━━━━━━━━━━━━━━━━━━━━\u001b[0m\u001b[37m\u001b[0m \u001b[1m0s\u001b[0m 3ms/step - loss: 852.5603 - mean_absolute_error: 23.3300 - val_loss: 863.9564 - val_mean_absolute_error: 23.3278\n",
      "Epoch 8/100\n",
      "\u001b[1m125/125\u001b[0m \u001b[32m━━━━━━━━━━━━━━━━━━━━\u001b[0m\u001b[37m\u001b[0m \u001b[1m0s\u001b[0m 2ms/step - loss: 857.8341 - mean_absolute_error: 23.2238 - val_loss: 851.2390 - val_mean_absolute_error: 23.1586\n",
      "Epoch 9/100\n",
      "\u001b[1m125/125\u001b[0m \u001b[32m━━━━━━━━━━━━━━━━━━━━\u001b[0m\u001b[37m\u001b[0m \u001b[1m0s\u001b[0m 2ms/step - loss: 891.6511 - mean_absolute_error: 23.5460 - val_loss: 846.9893 - val_mean_absolute_error: 23.2162\n",
      "Epoch 10/100\n",
      "\u001b[1m125/125\u001b[0m \u001b[32m━━━━━━━━━━━━━━━━━━━━\u001b[0m\u001b[37m\u001b[0m \u001b[1m0s\u001b[0m 2ms/step - loss: 855.6896 - mean_absolute_error: 23.3207 - val_loss: 837.2283 - val_mean_absolute_error: 23.0391\n",
      "Epoch 11/100\n",
      "\u001b[1m125/125\u001b[0m \u001b[32m━━━━━━━━━━━━━━━━━━━━\u001b[0m\u001b[37m\u001b[0m \u001b[1m0s\u001b[0m 2ms/step - loss: 835.0538 - mean_absolute_error: 22.7100 - val_loss: 833.1827 - val_mean_absolute_error: 23.1060\n",
      "Epoch 12/100\n",
      "\u001b[1m125/125\u001b[0m \u001b[32m━━━━━━━━━━━━━━━━━━━━\u001b[0m\u001b[37m\u001b[0m \u001b[1m0s\u001b[0m 2ms/step - loss: 867.3364 - mean_absolute_error: 23.5112 - val_loss: 822.8774 - val_mean_absolute_error: 22.6393\n",
      "Epoch 13/100\n",
      "\u001b[1m125/125\u001b[0m \u001b[32m━━━━━━━━━━━━━━━━━━━━\u001b[0m\u001b[37m\u001b[0m \u001b[1m0s\u001b[0m 2ms/step - loss: 869.1059 - mean_absolute_error: 23.3017 - val_loss: 817.4197 - val_mean_absolute_error: 22.6374\n",
      "Epoch 14/100\n",
      "\u001b[1m125/125\u001b[0m \u001b[32m━━━━━━━━━━━━━━━━━━━━\u001b[0m\u001b[37m\u001b[0m \u001b[1m0s\u001b[0m 2ms/step - loss: 824.7155 - mean_absolute_error: 22.7589 - val_loss: 810.8331 - val_mean_absolute_error: 22.4274\n",
      "Epoch 15/100\n",
      "\u001b[1m125/125\u001b[0m \u001b[32m━━━━━━━━━━━━━━━━━━━━\u001b[0m\u001b[37m\u001b[0m \u001b[1m0s\u001b[0m 2ms/step - loss: 842.1102 - mean_absolute_error: 22.8308 - val_loss: 810.1730 - val_mean_absolute_error: 22.4652\n",
      "Epoch 16/100\n",
      "\u001b[1m125/125\u001b[0m \u001b[32m━━━━━━━━━━━━━━━━━━━━\u001b[0m\u001b[37m\u001b[0m \u001b[1m0s\u001b[0m 2ms/step - loss: 799.5200 - mean_absolute_error: 22.4025 - val_loss: 808.3561 - val_mean_absolute_error: 22.5380\n",
      "Epoch 17/100\n",
      "\u001b[1m125/125\u001b[0m \u001b[32m━━━━━━━━━━━━━━━━━━━━\u001b[0m\u001b[37m\u001b[0m \u001b[1m0s\u001b[0m 2ms/step - loss: 830.5194 - mean_absolute_error: 22.4320 - val_loss: 804.0461 - val_mean_absolute_error: 22.3932\n",
      "Epoch 18/100\n",
      "\u001b[1m125/125\u001b[0m \u001b[32m━━━━━━━━━━━━━━━━━━━━\u001b[0m\u001b[37m\u001b[0m \u001b[1m0s\u001b[0m 2ms/step - loss: 799.1546 - mean_absolute_error: 22.3545 - val_loss: 802.2086 - val_mean_absolute_error: 22.3373\n",
      "Epoch 19/100\n",
      "\u001b[1m125/125\u001b[0m \u001b[32m━━━━━━━━━━━━━━━━━━━━\u001b[0m\u001b[37m\u001b[0m \u001b[1m0s\u001b[0m 2ms/step - loss: 798.9343 - mean_absolute_error: 22.2063 - val_loss: 797.5749 - val_mean_absolute_error: 22.0960\n",
      "Epoch 20/100\n",
      "\u001b[1m125/125\u001b[0m \u001b[32m━━━━━━━━━━━━━━━━━━━━\u001b[0m\u001b[37m\u001b[0m \u001b[1m0s\u001b[0m 3ms/step - loss: 806.2502 - mean_absolute_error: 22.2238 - val_loss: 792.7465 - val_mean_absolute_error: 22.1279\n",
      "Epoch 21/100\n",
      "\u001b[1m125/125\u001b[0m \u001b[32m━━━━━━━━━━━━━━━━━━━━\u001b[0m\u001b[37m\u001b[0m \u001b[1m0s\u001b[0m 2ms/step - loss: 820.5742 - mean_absolute_error: 22.4019 - val_loss: 792.2381 - val_mean_absolute_error: 22.0770\n",
      "Epoch 22/100\n",
      "\u001b[1m125/125\u001b[0m \u001b[32m━━━━━━━━━━━━━━━━━━━━\u001b[0m\u001b[37m\u001b[0m \u001b[1m0s\u001b[0m 2ms/step - loss: 817.5869 - mean_absolute_error: 22.6194 - val_loss: 790.0941 - val_mean_absolute_error: 22.0009\n",
      "Epoch 23/100\n",
      "\u001b[1m125/125\u001b[0m \u001b[32m━━━━━━━━━━━━━━━━━━━━\u001b[0m\u001b[37m\u001b[0m \u001b[1m0s\u001b[0m 2ms/step - loss: 765.7143 - mean_absolute_error: 21.8589 - val_loss: 789.5086 - val_mean_absolute_error: 21.9418\n",
      "Epoch 24/100\n",
      "\u001b[1m125/125\u001b[0m \u001b[32m━━━━━━━━━━━━━━━━━━━━\u001b[0m\u001b[37m\u001b[0m \u001b[1m0s\u001b[0m 2ms/step - loss: 761.6927 - mean_absolute_error: 21.6792 - val_loss: 785.6115 - val_mean_absolute_error: 21.9494\n",
      "Epoch 25/100\n",
      "\u001b[1m125/125\u001b[0m \u001b[32m━━━━━━━━━━━━━━━━━━━━\u001b[0m\u001b[37m\u001b[0m \u001b[1m0s\u001b[0m 2ms/step - loss: 751.0200 - mean_absolute_error: 21.5951 - val_loss: 790.2692 - val_mean_absolute_error: 21.7388\n",
      "Epoch 26/100\n",
      "\u001b[1m125/125\u001b[0m \u001b[32m━━━━━━━━━━━━━━━━━━━━\u001b[0m\u001b[37m\u001b[0m \u001b[1m0s\u001b[0m 3ms/step - loss: 763.6210 - mean_absolute_error: 21.7114 - val_loss: 782.3328 - val_mean_absolute_error: 21.8712\n",
      "Epoch 27/100\n",
      "\u001b[1m125/125\u001b[0m \u001b[32m━━━━━━━━━━━━━━━━━━━━\u001b[0m\u001b[37m\u001b[0m \u001b[1m0s\u001b[0m 2ms/step - loss: 784.2943 - mean_absolute_error: 22.0165 - val_loss: 782.2379 - val_mean_absolute_error: 21.8482\n",
      "Epoch 28/100\n",
      "\u001b[1m125/125\u001b[0m \u001b[32m━━━━━━━━━━━━━━━━━━━━\u001b[0m\u001b[37m\u001b[0m \u001b[1m0s\u001b[0m 2ms/step - loss: 758.5638 - mean_absolute_error: 21.5565 - val_loss: 782.4927 - val_mean_absolute_error: 21.7321\n",
      "Epoch 29/100\n",
      "\u001b[1m125/125\u001b[0m \u001b[32m━━━━━━━━━━━━━━━━━━━━\u001b[0m\u001b[37m\u001b[0m \u001b[1m0s\u001b[0m 2ms/step - loss: 763.5842 - mean_absolute_error: 21.7136 - val_loss: 782.9283 - val_mean_absolute_error: 21.8125\n",
      "Epoch 30/100\n",
      "\u001b[1m125/125\u001b[0m \u001b[32m━━━━━━━━━━━━━━━━━━━━\u001b[0m\u001b[37m\u001b[0m \u001b[1m0s\u001b[0m 2ms/step - loss: 761.1509 - mean_absolute_error: 21.6456 - val_loss: 778.9296 - val_mean_absolute_error: 21.6619\n",
      "Epoch 31/100\n",
      "\u001b[1m125/125\u001b[0m \u001b[32m━━━━━━━━━━━━━━━━━━━━\u001b[0m\u001b[37m\u001b[0m \u001b[1m0s\u001b[0m 2ms/step - loss: 768.9399 - mean_absolute_error: 21.8466 - val_loss: 780.2180 - val_mean_absolute_error: 21.6930\n",
      "Epoch 32/100\n",
      "\u001b[1m125/125\u001b[0m \u001b[32m━━━━━━━━━━━━━━━━━━━━\u001b[0m\u001b[37m\u001b[0m \u001b[1m0s\u001b[0m 2ms/step - loss: 751.4346 - mean_absolute_error: 21.3403 - val_loss: 774.3353 - val_mean_absolute_error: 21.7041\n",
      "Epoch 33/100\n",
      "\u001b[1m125/125\u001b[0m \u001b[32m━━━━━━━━━━━━━━━━━━━━\u001b[0m\u001b[37m\u001b[0m \u001b[1m0s\u001b[0m 2ms/step - loss: 740.8517 - mean_absolute_error: 21.2493 - val_loss: 773.8698 - val_mean_absolute_error: 21.7492\n",
      "Epoch 34/100\n",
      "\u001b[1m125/125\u001b[0m \u001b[32m━━━━━━━━━━━━━━━━━━━━\u001b[0m\u001b[37m\u001b[0m \u001b[1m1s\u001b[0m 3ms/step - loss: 738.7310 - mean_absolute_error: 21.3741 - val_loss: 775.0151 - val_mean_absolute_error: 21.5621\n",
      "Epoch 35/100\n",
      "\u001b[1m125/125\u001b[0m \u001b[32m━━━━━━━━━━━━━━━━━━━━\u001b[0m\u001b[37m\u001b[0m \u001b[1m0s\u001b[0m 2ms/step - loss: 717.2471 - mean_absolute_error: 21.0090 - val_loss: 772.4632 - val_mean_absolute_error: 21.8157\n",
      "Epoch 36/100\n",
      "\u001b[1m125/125\u001b[0m \u001b[32m━━━━━━━━━━━━━━━━━━━━\u001b[0m\u001b[37m\u001b[0m \u001b[1m0s\u001b[0m 3ms/step - loss: 721.9413 - mean_absolute_error: 20.9485 - val_loss: 773.7484 - val_mean_absolute_error: 21.4322\n",
      "Epoch 37/100\n",
      "\u001b[1m125/125\u001b[0m \u001b[32m━━━━━━━━━━━━━━━━━━━━\u001b[0m\u001b[37m\u001b[0m \u001b[1m0s\u001b[0m 2ms/step - loss: 746.7405 - mean_absolute_error: 21.4334 - val_loss: 770.6497 - val_mean_absolute_error: 21.4315\n",
      "Epoch 38/100\n",
      "\u001b[1m125/125\u001b[0m \u001b[32m━━━━━━━━━━━━━━━━━━━━\u001b[0m\u001b[37m\u001b[0m \u001b[1m0s\u001b[0m 2ms/step - loss: 737.6141 - mean_absolute_error: 21.2118 - val_loss: 774.4099 - val_mean_absolute_error: 21.4916\n",
      "Epoch 39/100\n",
      "\u001b[1m125/125\u001b[0m \u001b[32m━━━━━━━━━━━━━━━━━━━━\u001b[0m\u001b[37m\u001b[0m \u001b[1m0s\u001b[0m 3ms/step - loss: 751.7891 - mean_absolute_error: 21.4844 - val_loss: 774.6962 - val_mean_absolute_error: 21.6174\n",
      "Epoch 40/100\n",
      "\u001b[1m125/125\u001b[0m \u001b[32m━━━━━━━━━━━━━━━━━━━━\u001b[0m\u001b[37m\u001b[0m \u001b[1m0s\u001b[0m 3ms/step - loss: 733.0402 - mean_absolute_error: 21.0619 - val_loss: 768.1473 - val_mean_absolute_error: 21.7037\n",
      "Epoch 41/100\n",
      "\u001b[1m125/125\u001b[0m \u001b[32m━━━━━━━━━━━━━━━━━━━━\u001b[0m\u001b[37m\u001b[0m \u001b[1m0s\u001b[0m 2ms/step - loss: 746.4818 - mean_absolute_error: 21.3154 - val_loss: 763.5870 - val_mean_absolute_error: 21.3926\n",
      "Epoch 42/100\n",
      "\u001b[1m125/125\u001b[0m \u001b[32m━━━━━━━━━━━━━━━━━━━━\u001b[0m\u001b[37m\u001b[0m \u001b[1m0s\u001b[0m 2ms/step - loss: 713.5852 - mean_absolute_error: 20.7711 - val_loss: 768.2261 - val_mean_absolute_error: 21.4623\n",
      "Epoch 43/100\n",
      "\u001b[1m125/125\u001b[0m \u001b[32m━━━━━━━━━━━━━━━━━━━━\u001b[0m\u001b[37m\u001b[0m \u001b[1m0s\u001b[0m 2ms/step - loss: 729.9391 - mean_absolute_error: 21.1746 - val_loss: 763.9441 - val_mean_absolute_error: 21.4231\n",
      "Epoch 44/100\n",
      "\u001b[1m125/125\u001b[0m \u001b[32m━━━━━━━━━━━━━━━━━━━━\u001b[0m\u001b[37m\u001b[0m \u001b[1m1s\u001b[0m 3ms/step - loss: 746.0508 - mean_absolute_error: 21.4296 - val_loss: 763.2416 - val_mean_absolute_error: 21.4262\n",
      "Epoch 45/100\n",
      "\u001b[1m125/125\u001b[0m \u001b[32m━━━━━━━━━━━━━━━━━━━━\u001b[0m\u001b[37m\u001b[0m \u001b[1m0s\u001b[0m 2ms/step - loss: 706.1732 - mean_absolute_error: 20.6301 - val_loss: 763.4501 - val_mean_absolute_error: 21.5603\n",
      "Epoch 46/100\n",
      "\u001b[1m125/125\u001b[0m \u001b[32m━━━━━━━━━━━━━━━━━━━━\u001b[0m\u001b[37m\u001b[0m \u001b[1m0s\u001b[0m 3ms/step - loss: 721.4954 - mean_absolute_error: 21.0484 - val_loss: 766.3267 - val_mean_absolute_error: 21.9138\n",
      "Epoch 47/100\n",
      "\u001b[1m125/125\u001b[0m \u001b[32m━━━━━━━━━━━━━━━━━━━━\u001b[0m\u001b[37m\u001b[0m \u001b[1m0s\u001b[0m 2ms/step - loss: 710.2961 - mean_absolute_error: 20.7359 - val_loss: 774.5883 - val_mean_absolute_error: 21.1191\n",
      "Epoch 48/100\n",
      "\u001b[1m125/125\u001b[0m \u001b[32m━━━━━━━━━━━━━━━━━━━━\u001b[0m\u001b[37m\u001b[0m \u001b[1m0s\u001b[0m 2ms/step - loss: 714.6516 - mean_absolute_error: 20.6065 - val_loss: 761.9341 - val_mean_absolute_error: 21.4890\n",
      "Epoch 49/100\n",
      "\u001b[1m125/125\u001b[0m \u001b[32m━━━━━━━━━━━━━━━━━━━━\u001b[0m\u001b[37m\u001b[0m \u001b[1m0s\u001b[0m 2ms/step - loss: 687.4670 - mean_absolute_error: 20.5711 - val_loss: 757.3255 - val_mean_absolute_error: 21.5053\n",
      "Epoch 50/100\n",
      "\u001b[1m125/125\u001b[0m \u001b[32m━━━━━━━━━━━━━━━━━━━━\u001b[0m\u001b[37m\u001b[0m \u001b[1m0s\u001b[0m 2ms/step - loss: 684.9685 - mean_absolute_error: 20.5289 - val_loss: 759.1292 - val_mean_absolute_error: 21.5813\n",
      "Epoch 51/100\n",
      "\u001b[1m125/125\u001b[0m \u001b[32m━━━━━━━━━━━━━━━━━━━━\u001b[0m\u001b[37m\u001b[0m \u001b[1m0s\u001b[0m 2ms/step - loss: 683.9151 - mean_absolute_error: 20.4567 - val_loss: 760.7407 - val_mean_absolute_error: 21.7188\n",
      "Epoch 52/100\n",
      "\u001b[1m125/125\u001b[0m \u001b[32m━━━━━━━━━━━━━━━━━━━━\u001b[0m\u001b[37m\u001b[0m \u001b[1m0s\u001b[0m 4ms/step - loss: 686.5678 - mean_absolute_error: 20.4970 - val_loss: 756.4363 - val_mean_absolute_error: 21.3109\n",
      "Epoch 53/100\n",
      "\u001b[1m125/125\u001b[0m \u001b[32m━━━━━━━━━━━━━━━━━━━━\u001b[0m\u001b[37m\u001b[0m \u001b[1m0s\u001b[0m 3ms/step - loss: 695.9435 - mean_absolute_error: 20.5300 - val_loss: 756.1046 - val_mean_absolute_error: 21.4263\n",
      "Epoch 54/100\n",
      "\u001b[1m125/125\u001b[0m \u001b[32m━━━━━━━━━━━━━━━━━━━━\u001b[0m\u001b[37m\u001b[0m \u001b[1m0s\u001b[0m 2ms/step - loss: 692.8220 - mean_absolute_error: 20.6812 - val_loss: 763.6122 - val_mean_absolute_error: 21.2031\n",
      "Epoch 55/100\n",
      "\u001b[1m125/125\u001b[0m \u001b[32m━━━━━━━━━━━━━━━━━━━━\u001b[0m\u001b[37m\u001b[0m \u001b[1m0s\u001b[0m 2ms/step - loss: 698.2778 - mean_absolute_error: 20.4933 - val_loss: 757.4649 - val_mean_absolute_error: 21.2349\n",
      "Epoch 56/100\n",
      "\u001b[1m125/125\u001b[0m \u001b[32m━━━━━━━━━━━━━━━━━━━━\u001b[0m\u001b[37m\u001b[0m \u001b[1m0s\u001b[0m 3ms/step - loss: 704.3948 - mean_absolute_error: 20.6680 - val_loss: 754.8790 - val_mean_absolute_error: 21.3320\n",
      "Epoch 57/100\n",
      "\u001b[1m125/125\u001b[0m \u001b[32m━━━━━━━━━━━━━━━━━━━━\u001b[0m\u001b[37m\u001b[0m \u001b[1m0s\u001b[0m 2ms/step - loss: 717.2769 - mean_absolute_error: 20.7959 - val_loss: 753.2211 - val_mean_absolute_error: 21.3411\n",
      "Epoch 58/100\n",
      "\u001b[1m125/125\u001b[0m \u001b[32m━━━━━━━━━━━━━━━━━━━━\u001b[0m\u001b[37m\u001b[0m \u001b[1m0s\u001b[0m 2ms/step - loss: 678.1375 - mean_absolute_error: 20.3331 - val_loss: 757.2055 - val_mean_absolute_error: 21.4277\n",
      "Epoch 59/100\n",
      "\u001b[1m125/125\u001b[0m \u001b[32m━━━━━━━━━━━━━━━━━━━━\u001b[0m\u001b[37m\u001b[0m \u001b[1m0s\u001b[0m 4ms/step - loss: 685.2394 - mean_absolute_error: 20.4469 - val_loss: 764.8256 - val_mean_absolute_error: 21.3805\n",
      "Epoch 60/100\n",
      "\u001b[1m125/125\u001b[0m \u001b[32m━━━━━━━━━━━━━━━━━━━━\u001b[0m\u001b[37m\u001b[0m \u001b[1m0s\u001b[0m 2ms/step - loss: 692.7780 - mean_absolute_error: 20.2512 - val_loss: 764.5373 - val_mean_absolute_error: 21.1912\n",
      "Epoch 61/100\n",
      "\u001b[1m125/125\u001b[0m \u001b[32m━━━━━━━━━━━━━━━━━━━━\u001b[0m\u001b[37m\u001b[0m \u001b[1m0s\u001b[0m 2ms/step - loss: 700.5406 - mean_absolute_error: 20.5735 - val_loss: 757.8819 - val_mean_absolute_error: 21.0726\n",
      "Epoch 62/100\n",
      "\u001b[1m125/125\u001b[0m \u001b[32m━━━━━━━━━━━━━━━━━━━━\u001b[0m\u001b[37m\u001b[0m \u001b[1m0s\u001b[0m 3ms/step - loss: 697.8205 - mean_absolute_error: 20.5290 - val_loss: 749.9307 - val_mean_absolute_error: 21.1415\n",
      "Epoch 63/100\n",
      "\u001b[1m125/125\u001b[0m \u001b[32m━━━━━━━━━━━━━━━━━━━━\u001b[0m\u001b[37m\u001b[0m \u001b[1m0s\u001b[0m 3ms/step - loss: 662.8754 - mean_absolute_error: 19.9506 - val_loss: 758.6193 - val_mean_absolute_error: 21.7002\n",
      "Epoch 64/100\n",
      "\u001b[1m125/125\u001b[0m \u001b[32m━━━━━━━━━━━━━━━━━━━━\u001b[0m\u001b[37m\u001b[0m \u001b[1m0s\u001b[0m 3ms/step - loss: 679.9624 - mean_absolute_error: 20.2826 - val_loss: 750.9969 - val_mean_absolute_error: 21.1270\n",
      "Epoch 65/100\n",
      "\u001b[1m125/125\u001b[0m \u001b[32m━━━━━━━━━━━━━━━━━━━━\u001b[0m\u001b[37m\u001b[0m \u001b[1m0s\u001b[0m 2ms/step - loss: 668.8046 - mean_absolute_error: 20.1427 - val_loss: 752.1755 - val_mean_absolute_error: 21.1807\n",
      "Epoch 66/100\n",
      "\u001b[1m125/125\u001b[0m \u001b[32m━━━━━━━━━━━━━━━━━━━━\u001b[0m\u001b[37m\u001b[0m \u001b[1m1s\u001b[0m 3ms/step - loss: 671.8890 - mean_absolute_error: 20.1532 - val_loss: 749.2614 - val_mean_absolute_error: 21.3855\n",
      "Epoch 67/100\n",
      "\u001b[1m125/125\u001b[0m \u001b[32m━━━━━━━━━━━━━━━━━━━━\u001b[0m\u001b[37m\u001b[0m \u001b[1m0s\u001b[0m 3ms/step - loss: 651.7696 - mean_absolute_error: 19.8497 - val_loss: 750.0542 - val_mean_absolute_error: 21.5313\n",
      "Epoch 68/100\n",
      "\u001b[1m125/125\u001b[0m \u001b[32m━━━━━━━━━━━━━━━━━━━━\u001b[0m\u001b[37m\u001b[0m \u001b[1m0s\u001b[0m 3ms/step - loss: 650.9105 - mean_absolute_error: 19.9501 - val_loss: 755.6229 - val_mean_absolute_error: 21.5178\n",
      "Epoch 69/100\n",
      "\u001b[1m125/125\u001b[0m \u001b[32m━━━━━━━━━━━━━━━━━━━━\u001b[0m\u001b[37m\u001b[0m \u001b[1m0s\u001b[0m 2ms/step - loss: 671.0027 - mean_absolute_error: 20.0642 - val_loss: 751.3391 - val_mean_absolute_error: 21.2648\n",
      "Epoch 70/100\n",
      "\u001b[1m125/125\u001b[0m \u001b[32m━━━━━━━━━━━━━━━━━━━━\u001b[0m\u001b[37m\u001b[0m \u001b[1m0s\u001b[0m 2ms/step - loss: 661.3320 - mean_absolute_error: 19.9354 - val_loss: 748.6321 - val_mean_absolute_error: 21.2895\n",
      "Epoch 71/100\n",
      "\u001b[1m125/125\u001b[0m \u001b[32m━━━━━━━━━━━━━━━━━━━━\u001b[0m\u001b[37m\u001b[0m \u001b[1m0s\u001b[0m 3ms/step - loss: 690.5872 - mean_absolute_error: 20.3741 - val_loss: 749.8145 - val_mean_absolute_error: 21.1317\n",
      "Epoch 72/100\n",
      "\u001b[1m125/125\u001b[0m \u001b[32m━━━━━━━━━━━━━━━━━━━━\u001b[0m\u001b[37m\u001b[0m \u001b[1m1s\u001b[0m 4ms/step - loss: 647.6872 - mean_absolute_error: 19.8258 - val_loss: 775.8774 - val_mean_absolute_error: 21.2037\n",
      "Epoch 73/100\n",
      "\u001b[1m125/125\u001b[0m \u001b[32m━━━━━━━━━━━━━━━━━━━━\u001b[0m\u001b[37m\u001b[0m \u001b[1m0s\u001b[0m 3ms/step - loss: 659.5455 - mean_absolute_error: 19.7921 - val_loss: 748.6063 - val_mean_absolute_error: 21.2226\n",
      "Epoch 74/100\n",
      "\u001b[1m125/125\u001b[0m \u001b[32m━━━━━━━━━━━━━━━━━━━━\u001b[0m\u001b[37m\u001b[0m \u001b[1m0s\u001b[0m 3ms/step - loss: 616.3953 - mean_absolute_error: 19.2248 - val_loss: 754.4868 - val_mean_absolute_error: 21.6333\n",
      "Epoch 75/100\n",
      "\u001b[1m125/125\u001b[0m \u001b[32m━━━━━━━━━━━━━━━━━━━━\u001b[0m\u001b[37m\u001b[0m \u001b[1m0s\u001b[0m 3ms/step - loss: 646.9338 - mean_absolute_error: 19.8245 - val_loss: 748.3894 - val_mean_absolute_error: 21.2994\n",
      "Epoch 76/100\n",
      "\u001b[1m125/125\u001b[0m \u001b[32m━━━━━━━━━━━━━━━━━━━━\u001b[0m\u001b[37m\u001b[0m \u001b[1m0s\u001b[0m 3ms/step - loss: 654.1046 - mean_absolute_error: 19.7120 - val_loss: 753.8878 - val_mean_absolute_error: 21.4958\n",
      "Epoch 77/100\n",
      "\u001b[1m125/125\u001b[0m \u001b[32m━━━━━━━━━━━━━━━━━━━━\u001b[0m\u001b[37m\u001b[0m \u001b[1m1s\u001b[0m 5ms/step - loss: 642.6906 - mean_absolute_error: 19.7603 - val_loss: 750.2806 - val_mean_absolute_error: 21.4048\n",
      "Epoch 78/100\n",
      "\u001b[1m125/125\u001b[0m \u001b[32m━━━━━━━━━━━━━━━━━━━━\u001b[0m\u001b[37m\u001b[0m \u001b[1m0s\u001b[0m 3ms/step - loss: 631.1044 - mean_absolute_error: 19.5937 - val_loss: 751.6529 - val_mean_absolute_error: 21.2697\n",
      "Epoch 79/100\n",
      "\u001b[1m125/125\u001b[0m \u001b[32m━━━━━━━━━━━━━━━━━━━━\u001b[0m\u001b[37m\u001b[0m \u001b[1m0s\u001b[0m 3ms/step - loss: 659.6407 - mean_absolute_error: 19.9474 - val_loss: 751.9865 - val_mean_absolute_error: 21.5471\n",
      "Epoch 80/100\n",
      "\u001b[1m125/125\u001b[0m \u001b[32m━━━━━━━━━━━━━━━━━━━━\u001b[0m\u001b[37m\u001b[0m \u001b[1m0s\u001b[0m 3ms/step - loss: 668.5116 - mean_absolute_error: 19.9336 - val_loss: 749.9239 - val_mean_absolute_error: 21.3471\n",
      "Epoch 81/100\n",
      "\u001b[1m125/125\u001b[0m \u001b[32m━━━━━━━━━━━━━━━━━━━━\u001b[0m\u001b[37m\u001b[0m \u001b[1m0s\u001b[0m 3ms/step - loss: 664.5151 - mean_absolute_error: 20.0805 - val_loss: 754.3517 - val_mean_absolute_error: 21.1928\n",
      "Epoch 82/100\n",
      "\u001b[1m125/125\u001b[0m \u001b[32m━━━━━━━━━━━━━━━━━━━━\u001b[0m\u001b[37m\u001b[0m \u001b[1m0s\u001b[0m 3ms/step - loss: 610.6353 - mean_absolute_error: 19.2150 - val_loss: 752.3269 - val_mean_absolute_error: 21.5253\n",
      "Epoch 83/100\n",
      "\u001b[1m125/125\u001b[0m \u001b[32m━━━━━━━━━━━━━━━━━━━━\u001b[0m\u001b[37m\u001b[0m \u001b[1m1s\u001b[0m 4ms/step - loss: 669.1821 - mean_absolute_error: 20.0633 - val_loss: 758.2519 - val_mean_absolute_error: 21.1459\n",
      "Epoch 84/100\n",
      "\u001b[1m125/125\u001b[0m \u001b[32m━━━━━━━━━━━━━━━━━━━━\u001b[0m\u001b[37m\u001b[0m \u001b[1m0s\u001b[0m 3ms/step - loss: 640.1262 - mean_absolute_error: 19.4466 - val_loss: 749.4078 - val_mean_absolute_error: 21.4447\n",
      "Epoch 85/100\n",
      "\u001b[1m125/125\u001b[0m \u001b[32m━━━━━━━━━━━━━━━━━━━━\u001b[0m\u001b[37m\u001b[0m \u001b[1m0s\u001b[0m 3ms/step - loss: 643.2156 - mean_absolute_error: 19.5977 - val_loss: 757.3645 - val_mean_absolute_error: 21.1283\n",
      "Epoch 86/100\n",
      "\u001b[1m125/125\u001b[0m \u001b[32m━━━━━━━━━━━━━━━━━━━━\u001b[0m\u001b[37m\u001b[0m \u001b[1m0s\u001b[0m 3ms/step - loss: 619.4177 - mean_absolute_error: 19.3537 - val_loss: 757.0755 - val_mean_absolute_error: 21.3459\n",
      "Epoch 87/100\n",
      "\u001b[1m125/125\u001b[0m \u001b[32m━━━━━━━━━━━━━━━━━━━━\u001b[0m\u001b[37m\u001b[0m \u001b[1m0s\u001b[0m 3ms/step - loss: 617.6261 - mean_absolute_error: 19.3069 - val_loss: 753.6272 - val_mean_absolute_error: 21.4396\n",
      "Epoch 88/100\n",
      "\u001b[1m125/125\u001b[0m \u001b[32m━━━━━━━━━━━━━━━━━━━━\u001b[0m\u001b[37m\u001b[0m \u001b[1m1s\u001b[0m 4ms/step - loss: 625.7419 - mean_absolute_error: 19.1670 - val_loss: 753.3046 - val_mean_absolute_error: 21.2403\n",
      "Epoch 89/100\n",
      "\u001b[1m125/125\u001b[0m \u001b[32m━━━━━━━━━━━━━━━━━━━━\u001b[0m\u001b[37m\u001b[0m \u001b[1m0s\u001b[0m 3ms/step - loss: 643.7893 - mean_absolute_error: 19.5772 - val_loss: 756.3199 - val_mean_absolute_error: 21.4985\n",
      "Epoch 90/100\n",
      "\u001b[1m125/125\u001b[0m \u001b[32m━━━━━━━━━━━━━━━━━━━━\u001b[0m\u001b[37m\u001b[0m \u001b[1m0s\u001b[0m 3ms/step - loss: 586.9281 - mean_absolute_error: 18.9357 - val_loss: 753.0955 - val_mean_absolute_error: 21.6240\n",
      "Epoch 91/100\n",
      "\u001b[1m125/125\u001b[0m \u001b[32m━━━━━━━━━━━━━━━━━━━━\u001b[0m\u001b[37m\u001b[0m \u001b[1m0s\u001b[0m 3ms/step - loss: 636.2612 - mean_absolute_error: 19.5603 - val_loss: 753.5038 - val_mean_absolute_error: 21.5175\n",
      "Epoch 92/100\n",
      "\u001b[1m125/125\u001b[0m \u001b[32m━━━━━━━━━━━━━━━━━━━━\u001b[0m\u001b[37m\u001b[0m \u001b[1m0s\u001b[0m 3ms/step - loss: 626.3925 - mean_absolute_error: 19.4276 - val_loss: 746.8038 - val_mean_absolute_error: 21.3666\n",
      "Epoch 93/100\n",
      "\u001b[1m125/125\u001b[0m \u001b[32m━━━━━━━━━━━━━━━━━━━━\u001b[0m\u001b[37m\u001b[0m \u001b[1m1s\u001b[0m 4ms/step - loss: 601.7133 - mean_absolute_error: 19.1129 - val_loss: 750.5330 - val_mean_absolute_error: 21.3478\n",
      "Epoch 94/100\n",
      "\u001b[1m125/125\u001b[0m \u001b[32m━━━━━━━━━━━━━━━━━━━━\u001b[0m\u001b[37m\u001b[0m \u001b[1m0s\u001b[0m 3ms/step - loss: 630.7415 - mean_absolute_error: 19.4068 - val_loss: 752.8282 - val_mean_absolute_error: 21.3388\n",
      "Epoch 95/100\n",
      "\u001b[1m125/125\u001b[0m \u001b[32m━━━━━━━━━━━━━━━━━━━━\u001b[0m\u001b[37m\u001b[0m \u001b[1m0s\u001b[0m 3ms/step - loss: 611.0597 - mean_absolute_error: 19.1304 - val_loss: 752.3367 - val_mean_absolute_error: 21.2454\n",
      "Epoch 96/100\n",
      "\u001b[1m125/125\u001b[0m \u001b[32m━━━━━━━━━━━━━━━━━━━━\u001b[0m\u001b[37m\u001b[0m \u001b[1m0s\u001b[0m 4ms/step - loss: 623.7374 - mean_absolute_error: 19.1867 - val_loss: 757.1663 - val_mean_absolute_error: 21.1570\n",
      "Epoch 97/100\n",
      "\u001b[1m125/125\u001b[0m \u001b[32m━━━━━━━━━━━━━━━━━━━━\u001b[0m\u001b[37m\u001b[0m \u001b[1m1s\u001b[0m 5ms/step - loss: 617.0463 - mean_absolute_error: 19.2818 - val_loss: 748.4144 - val_mean_absolute_error: 21.2303\n",
      "Epoch 98/100\n",
      "\u001b[1m125/125\u001b[0m \u001b[32m━━━━━━━━━━━━━━━━━━━━\u001b[0m\u001b[37m\u001b[0m \u001b[1m1s\u001b[0m 4ms/step - loss: 602.8311 - mean_absolute_error: 19.0890 - val_loss: 753.5932 - val_mean_absolute_error: 21.6373\n",
      "Epoch 99/100\n",
      "\u001b[1m125/125\u001b[0m \u001b[32m━━━━━━━━━━━━━━━━━━━━\u001b[0m\u001b[37m\u001b[0m \u001b[1m1s\u001b[0m 3ms/step - loss: 612.7848 - mean_absolute_error: 19.2449 - val_loss: 750.0264 - val_mean_absolute_error: 21.3173\n",
      "Epoch 100/100\n",
      "\u001b[1m125/125\u001b[0m \u001b[32m━━━━━━━━━━━━━━━━━━━━\u001b[0m\u001b[37m\u001b[0m \u001b[1m0s\u001b[0m 3ms/step - loss: 580.3297 - mean_absolute_error: 18.6975 - val_loss: 755.4172 - val_mean_absolute_error: 21.5685\n",
      "\u001b[1m32/32\u001b[0m \u001b[32m━━━━━━━━━━━━━━━━━━━━\u001b[0m\u001b[37m\u001b[0m \u001b[1m0s\u001b[0m 2ms/step - loss: 783.1366 - mean_absolute_error: 22.2160 \n"
     ]
    }
   ],
   "source": [
    "import tensorflow as tf\n",
    "from tensorflow.keras.models import Sequential\n",
    "from tensorflow.keras.layers import Dense\n",
    "\n",
    "# Define the neural network model\n",
    "model_nn = Sequential()\n",
    "model_nn.add(Dense(64, input_dim=X_train_scaled.shape[1], activation='relu'))\n",
    "model_nn.add(Dense(32, activation='relu'))\n",
    "model_nn.add(Dense(1))\n",
    "\n",
    "# Compile the model\n",
    "model_nn.compile(optimizer='adam', loss='mean_squared_error', metrics=['mean_absolute_error'])\n",
    "\n",
    "# Train the model\n",
    "model_nn.fit(X_train_scaled, y_train, validation_data=(X_test_scaled, y_test), epochs=100, batch_size=32)\n",
    "# Evaluate the neural network model\n",
    "mae_nn = model_nn.evaluate(X_test_scaled, y_test)[1]\n"
   ]
  },
  {
   "cell_type": "markdown",
   "id": "08391382-37a3-4fd6-837c-971f7d1645b4",
   "metadata": {},
   "source": [
    "## Random Forest"
   ]
  },
  {
   "cell_type": "code",
   "execution_count": 14,
   "id": "ee097f08-d2c0-40b8-b1c4-1509b3b76b8b",
   "metadata": {},
   "outputs": [],
   "source": [
    "from sklearn.ensemble import RandomForestRegressor\n",
    "from sklearn.metrics import mean_absolute_error\n",
    "\n",
    "# Initialize and train the Random Forest Regressor\n",
    "model_rf = RandomForestRegressor(n_estimators=100, random_state=42)\n",
    "model_rf.fit(X_train, y_train)\n",
    "\n",
    "# Predict and evaluate the model\n",
    "y_pred_rf = model_rf.predict(X_test)\n",
    "mae_rf = mean_absolute_error(y_test, y_pred_rf)\n"
   ]
  },
  {
   "cell_type": "markdown",
   "id": "2047cc8a-6c7d-457a-b192-d54f1f20157b",
   "metadata": {},
   "source": [
    "### Results"
   ]
  },
  {
   "cell_type": "code",
   "execution_count": 15,
   "id": "2b9ac2f4-1101-4008-ab56-1cc6e9bf274b",
   "metadata": {},
   "outputs": [
    {
     "name": "stdout",
     "output_type": "stream",
     "text": [
      "Mean Absolute Error (Neural Network): 21.568492889404297\n",
      "Mean Absolute Error (Random Forest): 15.809949999999999\n"
     ]
    }
   ],
   "source": [
    "\n",
    "print(f'Mean Absolute Error (Neural Network): {mae_nn}')\n",
    "print(f'Mean Absolute Error (Random Forest): {mae_rf}')\n"
   ]
  },
  {
   "cell_type": "code",
   "execution_count": 16,
   "id": "5872ef73-7108-4600-b98b-73e6871f160d",
   "metadata": {
    "scrolled": true
   },
   "outputs": [],
   "source": [
    "# !pip install tensorflow==2.14.0\n",
    "# !pip install keras==2.14.0\n",
    "\n",
    "# !pip install --upgrade tensorflow scikit-learn scikeras\n",
    "# !pip install tensorflow scikit-learn scikeras --ignore-installed\n"
   ]
  },
  {
   "cell_type": "markdown",
   "id": "9ced832e-c4a6-41ac-8374-7d101b09f9a5",
   "metadata": {},
   "source": [
    "# Models Optimizations"
   ]
  },
  {
   "cell_type": "markdown",
   "id": "3444f4b0-69cd-4ea3-9816-fa888461a5d1",
   "metadata": {},
   "source": [
    "## Neural Networks"
   ]
  },
  {
   "cell_type": "code",
   "execution_count": 17,
   "id": "47e6fd37-e5c6-4854-8088-fac90957ae8a",
   "metadata": {},
   "outputs": [],
   "source": [
    "from keras.models import Sequential\n",
    "from keras.layers import Dense\n",
    "from scikeras.wrappers import KerasRegressor\n",
    "from sklearn.model_selection import GridSearchCV, RandomizedSearchCV"
   ]
  },
  {
   "cell_type": "code",
   "execution_count": 18,
   "id": "3e2e4488-cb86-44ba-a1f0-c9f62fdf51b8",
   "metadata": {},
   "outputs": [],
   "source": [
    "# Define a function to create the neural network model\n",
    "def create_model(neurons=32, activation='relu', optimizer='adam'):\n",
    "    model = Sequential()\n",
    "    model.add(Dense(neurons, input_dim=X_train_scaled.shape[1], activation=activation))\n",
    "    model.add(Dense(neurons, activation=activation))\n",
    "    model.add(Dense(1))\n",
    "    model.compile(optimizer=optimizer, loss='mean_squared_error', metrics=['mean_absolute_error'])\n",
    "    return model\n",
    "\n",
    "# Wrap the model using KerasRegressor\n",
    "model_nn2 = KerasRegressor(model=create_model, verbose=0)\n",
    "\n",
    "# Define the parameter grid\n",
    "param_grid = {\n",
    "    'batch_size': [16, 32],\n",
    "    'epochs': [50, 100],\n",
    "    'model__optimizer': ['adam'],\n",
    "    'model__activation': ['relu'],\n",
    "    'model__neurons': [32, 64]\n",
    "}\n"
   ]
  },
  {
   "cell_type": "code",
   "execution_count": 19,
   "id": "931eaf94-348d-46ef-b871-8cb1e66fc16c",
   "metadata": {},
   "outputs": [
    {
     "name": "stdout",
     "output_type": "stream",
     "text": [
      "Best: -21.80175956827965 using {'batch_size': 32, 'epochs': 50, 'model__activation': 'relu', 'model__neurons': 64, 'model__optimizer': 'adam'}\n"
     ]
    }
   ],
   "source": [
    "# Perform Grid Search\n",
    "grid_search = GridSearchCV(estimator=model_nn2, param_grid=param_grid, scoring='neg_mean_absolute_error', n_jobs=-1, cv=3)\n",
    "grid_result = grid_search.fit(X_train_scaled, y_train)\n",
    "\n",
    "# Display the best parameters\n",
    "print(f\"Best: {grid_result.best_score_} using {grid_result.best_params_}\")\n"
   ]
  },
  {
   "cell_type": "code",
   "execution_count": 20,
   "id": "3c9a9099-1d20-4925-b95f-f6e5e0712e4e",
   "metadata": {},
   "outputs": [
    {
     "name": "stdout",
     "output_type": "stream",
     "text": [
      "Best: -21.856003531898182 using {'model__optimizer': 'adam', 'model__neurons': 32, 'model__activation': 'relu', 'epochs': 100, 'batch_size': 32}\n"
     ]
    }
   ],
   "source": [
    "# Perform Randomized Search\n",
    "random_search = RandomizedSearchCV(estimator=model_nn2, param_distributions=param_grid, n_iter=20, scoring='neg_mean_absolute_error', n_jobs=-1, cv=3, random_state=42)\n",
    "random_result = random_search.fit(X_train_scaled, y_train)\n",
    "\n",
    "# Display the best parameters\n",
    "print(f\"Best: {random_result.best_score_} using {random_result.best_params_}\")\n"
   ]
  },
  {
   "cell_type": "markdown",
   "id": "77e7654d-2135-4e15-90aa-cb764aee52e8",
   "metadata": {},
   "source": [
    "## Random Forest"
   ]
  },
  {
   "cell_type": "code",
   "execution_count": null,
   "id": "c4ae663c-b6c8-4a6e-be18-56d8b2c18ac0",
   "metadata": {},
   "outputs": [],
   "source": [
    "from sklearn.ensemble import RandomForestRegressor\n",
    "from sklearn.model_selection import GridSearchCV, RandomizedSearchCV\n",
    "\n",
    "# Initialize the Random Forest Regressor\n",
    "rf = RandomForestRegressor(random_state=42)\n",
    "\n",
    "# Define the parameter grid\n",
    "param_grid = {\n",
    "    'n_estimators': [50, 100, 200],\n",
    "    'max_features': ['auto', 'sqrt', 'log2'],\n",
    "    'max_depth': [None, 10, 20, 30],\n",
    "    'min_samples_split': [2, 5, 10],\n",
    "    'min_samples_leaf': [1, 2, 4]\n",
    "}\n",
    "\n",
    "# Perform Grid Search\n",
    "grid_search_rf = GridSearchCV(estimator=rf, param_grid=param_grid, scoring='neg_mean_absolute_error', n_jobs=-1, cv=3)\n",
    "grid_result_rf = grid_search_rf.fit(X_train, y_train)\n",
    "\n",
    "# Display the best parameters\n",
    "print(f\"Best: {grid_result_rf.best_score_} using {grid_result_rf.best_params_}\")\n"
   ]
  },
  {
   "cell_type": "code",
   "execution_count": null,
   "id": "df628a4e-ca8a-4cb1-8484-43d7a25acdd9",
   "metadata": {},
   "outputs": [],
   "source": [
    "# Perform Randomized Search\n",
    "random_search_rf = RandomizedSearchCV(estimator=rf, param_distributions=param_grid, n_iter=20, scoring='neg_mean_absolute_error', n_jobs=-1, cv=3, random_state=42)\n",
    "random_result_rf = random_search_rf.fit(X_train, y_train)\n",
    "\n",
    "# Display the best parameters\n",
    "print(f\"Best: {random_result_rf.best_score_} using {random_result_rf.best_params_}\")\n"
   ]
  },
  {
   "cell_type": "markdown",
   "id": "ae4a8d3b-3138-4541-af33-dcbcd17cc3c3",
   "metadata": {},
   "source": [
    "## New customers predictions"
   ]
  },
  {
   "cell_type": "code",
   "execution_count": null,
   "id": "22c9ff04-f47a-42be-ac90-37e32abdba49",
   "metadata": {},
   "outputs": [],
   "source": [
    "import random"
   ]
  },
  {
   "cell_type": "code",
   "execution_count": null,
   "id": "a07e626f-3f6b-4382-82ba-a022d78c6a51",
   "metadata": {},
   "outputs": [],
   "source": [
    "# Function to generate random customer data\n",
    "def generate_customer():\n",
    "    return {\n",
    "        'Age': random.randint(18, 80),\n",
    "        'Experience(Years)': random.randint(1, 50),\n",
    "        'Family': random.randint(1, 5),\n",
    "        'Credit Score': round(random.uniform(0.5, 4.0), 2),\n",
    "        'Education': random.choice(['Diploma', 'Degree', 'Masters']),\n",
    "        'Mortgage': random.randint(0, 500),\n",
    "        'Personal Loan': random.choice(['Yes', 'No']),\n",
    "        'Securities Account': random.choice(['Yes', 'No']),\n",
    "        'CD Account': random.choice(['Yes', 'No']),\n",
    "        'Online Banking': random.choice(['Yes', 'No']),\n",
    "        'CreditCard': random.choice(['Yes', 'No'])\n",
    "    }"
   ]
  },
  {
   "cell_type": "code",
   "execution_count": null,
   "id": "5c1886d2-4f6f-4d85-8575-ab231c7d0688",
   "metadata": {},
   "outputs": [],
   "source": [
    "# Generate 20 new customers\n",
    "new_customers = [generate_customer() for _ in range(20)]\n",
    "\n",
    "# Convert new customers to DataFrame\n",
    "new_customers_df = pd.DataFrame(new_customers)\n",
    "\n",
    "# Encode categorical variables\n",
    "new_customers_encoded = pd.get_dummies(new_customers_df, columns=categorical_columns, drop_first=True)\n",
    "\n",
    "# Ensure all columns are present\n",
    "new_customers_encoded = new_customers_encoded.reindex(columns=X.columns, fill_value=0)\n",
    "\n",
    "# Scale features\n",
    "new_customers_scaled = scaler.transform(new_customers_encoded)\n",
    "\n",
    "# Make predictions\n",
    "predicted_incomes = model_nn.predict(new_customers_scaled)\n",
    "\n",
    "# Add predicted incomes to the new customers DataFrame\n",
    "new_customers_df['Predicted Income'] = predicted_incomes\n",
    "\n",
    "# Display the new customers with their predicted incomes\n",
    "new_customers_df\n"
   ]
  },
  {
   "cell_type": "code",
   "execution_count": null,
   "id": "c3f59cbb-e577-47a9-b803-f2f1cbb9f097",
   "metadata": {},
   "outputs": [],
   "source": []
  },
  {
   "cell_type": "markdown",
   "id": "321c4b47-8fff-4f64-8e5c-8a3ed5bd5549",
   "metadata": {},
   "source": [
    "# Sentiment Analysis - Game of thrones Tweets"
   ]
  },
  {
   "cell_type": "code",
   "execution_count": null,
   "id": "909fa4dd-ab5e-4c47-9368-979c3927d683",
   "metadata": {},
   "outputs": [],
   "source": [
    "import re\n",
    "from transformers import pipeline\n",
    "from tqdm import tqdm\n",
    "import matplotlib.pyplot as plt\n",
    "import seaborn as sns"
   ]
  },
  {
   "cell_type": "code",
   "execution_count": null,
   "id": "3620dcd1-9ed8-499b-9a81-e3519b87e8da",
   "metadata": {},
   "outputs": [],
   "source": [
    "# Load a larger chunk of the data to enable random sampling\n",
    "df_full = pd.read_csv('gotTwitter.csv', usecols=['text', 'created_at', 'screen_name'])\n"
   ]
  },
  {
   "cell_type": "code",
   "execution_count": null,
   "id": "6b367e27-a8d6-4641-9361-0865ef08b97b",
   "metadata": {},
   "outputs": [],
   "source": [
    "# Select a random subset of 2000 rows\n",
    "df_got = df_full.sample(n=1000, random_state=35).reset_index(drop=True)\n",
    "\n",
    "# Display the first few rows of the random subset\n",
    "df_got.head()\n"
   ]
  },
  {
   "cell_type": "code",
   "execution_count": null,
   "id": "d5a8bf39-3303-4bc2-8e1a-1ad5b4b5ba04",
   "metadata": {},
   "outputs": [],
   "source": [
    "# Function to clean the tweet text\n",
    "def clean_text(text):\n",
    "    text = re.sub(r'http\\S+', '', text)  # Remove URLs\n",
    "    text = re.sub(r'@\\w+', '', text)  # Remove mentions\n",
    "    text = re.sub(r'#\\w+', '', text)  # Remove hashtags\n",
    "    text = re.sub(r'\\d+', '', text)  # Remove numbers\n",
    "    text = re.sub(r'[^\\w\\s]', '', text)  # Remove punctuation\n",
    "    text = text.lower()  # Convert to lowercase\n",
    "    return text\n",
    "\n",
    "# Apply the cleaning function to the tweet text\n",
    "df_got['cleaned_text'] = df_got['text'].apply(clean_text)"
   ]
  },
  {
   "cell_type": "code",
   "execution_count": null,
   "id": "b067cec9-bd5b-4d4f-9dfa-c8160c8f9731",
   "metadata": {},
   "outputs": [],
   "source": [
    "# Load the sentiment analysis pipeline with a specified model\n",
    "sentiment_pipeline = pipeline('sentiment-analysis', model='nlptown/bert-base-multilingual-uncased-sentiment')\n"
   ]
  },
  {
   "cell_type": "code",
   "execution_count": null,
   "id": "d245d154-dba5-4e6e-8af3-30640ce3174c",
   "metadata": {},
   "outputs": [],
   "source": [
    "# Function to map model output to positive, neutral, and negative sentiments\n",
    "def map_sentiment(label):\n",
    "    score = int(label.split()[0])  # Extract the score from the label (e.g., '3 stars')\n",
    "    if score == 1 or score == 2:\n",
    "        return 'negative'\n",
    "    elif score == 3:\n",
    "        return 'neutral'\n",
    "    else:\n",
    "        return 'positive'\n",
    "\n",
    "# Apply the sentiment analysis pipeline to the cleaned text with progress bar\n",
    "tqdm.pandas()\n",
    "df_got['sentiment'] = df_got['cleaned_text'].progress_apply(lambda x: map_sentiment(sentiment_pipeline(x)[0]['label']))\n"
   ]
  },
  {
   "cell_type": "code",
   "execution_count": null,
   "id": "c72ab64e-e798-425d-ae4a-5c468428b18b",
   "metadata": {},
   "outputs": [],
   "source": [
    "# Display the first few sentiment results\n",
    "df_got[['cleaned_text', 'sentiment']].head()"
   ]
  },
  {
   "cell_type": "markdown",
   "id": "fd07a873-15ee-4312-bc3b-786f1e14f85f",
   "metadata": {},
   "source": [
    "## Barchart of amount ot tweets per sentiment"
   ]
  },
  {
   "cell_type": "code",
   "execution_count": null,
   "id": "e0a222e2-c562-42bb-9df2-1eda2537fdca",
   "metadata": {},
   "outputs": [],
   "source": [
    "# Count the number of each sentiment\n",
    "sentiment_counts = df_got['sentiment'].value_counts()\n",
    "\n",
    "# Plot the sentiment distribution\n",
    "plt.figure(figsize=(8, 6))\n",
    "sns.barplot(x=sentiment_counts.index, y=sentiment_counts.values, palette=['#ff9999','#66b3ff','#99ff99'])\n",
    "plt.title('Sentiment Distribution of Game of Thrones Tweets')\n",
    "plt.xlabel('Sentiment')\n",
    "plt.ylabel('Count')\n",
    "plt.show()\n"
   ]
  },
  {
   "cell_type": "markdown",
   "id": "8244098b-2411-49ff-b6b4-64cc61393b78",
   "metadata": {},
   "source": [
    "## Piechart of sentiment distribution"
   ]
  },
  {
   "cell_type": "code",
   "execution_count": null,
   "id": "da2a3b50-50eb-4651-b233-bb5d3bb4f1b0",
   "metadata": {},
   "outputs": [],
   "source": [
    "# Count the number of each sentiment\n",
    "sentiment_counts = df_got['sentiment'].value_counts()\n",
    "\n",
    "# Plot the pie chart\n",
    "plt.figure(figsize=(8, 8))\n",
    "plt.pie(sentiment_counts, labels=sentiment_counts.index, autopct='%1.1f%%', startangle=140, colors=['#ff9999','#66b3ff','#99ff99'])\n",
    "plt.title('Sentiment Distribution of Game of Thrones Tweets')\n",
    "# plt.axis('equal')  # Equal aspect ratio ensures the pie is drawn as a circle.\n",
    "plt.show()\n"
   ]
  },
  {
   "cell_type": "code",
   "execution_count": null,
   "id": "1a07a3db-8d3f-4481-9674-cd6e44ad82a9",
   "metadata": {},
   "outputs": [],
   "source": []
  },
  {
   "cell_type": "markdown",
   "id": "44208165-c233-4ff5-bd9a-ca10f3171369",
   "metadata": {},
   "source": [
    "## Wordcloud"
   ]
  },
  {
   "cell_type": "code",
   "execution_count": null,
   "id": "d0b572e0-0e76-4da3-ac77-d9537e89934c",
   "metadata": {},
   "outputs": [],
   "source": [
    "# !pip install wordcloud"
   ]
  },
  {
   "cell_type": "code",
   "execution_count": null,
   "id": "a0fa862c-cc97-4d37-b776-b57c2958df23",
   "metadata": {},
   "outputs": [],
   "source": [
    "from wordcloud import WordCloud\n",
    "\n",
    "# Function to generate word cloud\n",
    "def generate_wordcloud(text, title):\n",
    "    wordcloud = WordCloud(width=800, height=400, background_color='white').generate(text)\n",
    "    plt.figure(figsize=(10, 5))\n",
    "    plt.imshow(wordcloud, interpolation='bilinear')\n",
    "    plt.title(title, fontsize=20)\n",
    "    plt.axis('off')\n",
    "    plt.show()\n",
    "\n",
    "# Generate word clouds for different sentiments\n",
    "positive_text = ' '.join(df_got[df_got['sentiment'] == 'positive']['cleaned_text'])\n",
    "neutral_text = ' '.join(df_got[df_got['sentiment'] == 'neutral']['cleaned_text'])\n",
    "negative_text = ' '.join(df_got[df_got['sentiment'] == 'negative']['cleaned_text'])\n",
    "\n",
    "generate_wordcloud(positive_text, 'Positive Sentiment Words')\n",
    "generate_wordcloud(neutral_text, 'Neutral Sentiment Words')\n",
    "generate_wordcloud(negative_text, 'Negative Sentiment Words')\n"
   ]
  },
  {
   "cell_type": "code",
   "execution_count": null,
   "id": "a3384e2a-a6b1-4d65-a792-4a8deb57a2dd",
   "metadata": {},
   "outputs": [],
   "source": []
  },
  {
   "cell_type": "markdown",
   "id": "25781d62-a140-4d40-852a-4c0562f5ef6a",
   "metadata": {},
   "source": [
    "## Sentiment over time"
   ]
  },
  {
   "cell_type": "code",
   "execution_count": null,
   "id": "93541d96-96dc-4835-8c8e-7069833e1e49",
   "metadata": {},
   "outputs": [],
   "source": [
    "# Convert 'created_at' to datetime\n",
    "df_got['created_at'] = pd.to_datetime(df_got['created_at'])\n",
    "\n",
    "# Resample to get weekly sentiment counts\n",
    "weekly_sentiment = df_got.set_index('created_at').resample('W')['sentiment'].value_counts().unstack().fillna(0)\n",
    "\n",
    "# Plot the sentiment over time\n",
    "weekly_sentiment.plot(kind='line', marker='o', figsize=(8, 4),color=['#ff9999','#66b3ff','#99ff99'])\n",
    "plt.title('Sentiment Over Time')\n",
    "plt.xlabel('Week')\n",
    "plt.ylabel('Count')\n",
    "plt.legend(title='Sentiment',bbox_to_anchor=(1.05, 1), loc='upper left')\n",
    "plt.show()\n"
   ]
  },
  {
   "cell_type": "code",
   "execution_count": null,
   "id": "15c8495d-097e-488d-a339-c466fba59c6e",
   "metadata": {},
   "outputs": [],
   "source": []
  }
 ],
 "metadata": {
  "kernelspec": {
   "display_name": "Python 3 (ipykernel)",
   "language": "python",
   "name": "python3"
  },
  "language_info": {
   "codemirror_mode": {
    "name": "ipython",
    "version": 3
   },
   "file_extension": ".py",
   "mimetype": "text/x-python",
   "name": "python",
   "nbconvert_exporter": "python",
   "pygments_lexer": "ipython3",
   "version": "3.9.19"
  }
 },
 "nbformat": 4,
 "nbformat_minor": 5
}
